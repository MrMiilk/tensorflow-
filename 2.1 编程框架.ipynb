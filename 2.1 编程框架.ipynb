{
 "cells": [
  {
   "cell_type": "markdown",
   "metadata": {},
   "source": [
    "## 单机编程框架"
   ]
  },
  {
   "cell_type": "markdown",
   "metadata": {},
   "source": [
    "### 数据流图\n",
    "- 创建多个数据流图实例"
   ]
  },
  {
   "cell_type": "code",
   "execution_count": null,
   "metadata": {
    "collapsed": true
   },
   "outputs": [],
   "source": [
    "g1 = tf.Graph()\n",
    "with g1.as_default():\n",
    "    a = tf.Variable(0, name='a')\n",
    "    assert a.graph is g1\n",
    "with tf.Graph().as_default() as g2:\n",
    "    b = tf.Variable(1, name='b')"
   ]
  },
  {
   "cell_type": "markdown",
   "metadata": {},
   "source": [
    "### 单机编程框架"
   ]
  },
  {
   "cell_type": "markdown",
   "metadata": {},
   "source": [
    "##### 这里添加了flags.DEFINE_string(\"f\", '', \"kernel\")，不然会出现UnrecognizedFlagError: Unknown command line flag 'f'"
   ]
  },
  {
   "cell_type": "code",
   "execution_count": 1,
   "metadata": {},
   "outputs": [
    {
     "name": "stdout",
     "output_type": "stream",
     "text": [
      "WARNING:tensorflow:From c:\\users\\sx352\\appdata\\local\\programs\\python\\python36\\lib\\site-packages\\tensorflow\\contrib\\learn\\python\\learn\\datasets\\base.py:198: retry (from tensorflow.contrib.learn.python.learn.datasets.base) is deprecated and will be removed in a future version.\n",
      "Instructions for updating:\n",
      "Use the retry module or similar alternatives.\n"
     ]
    }
   ],
   "source": [
    "import tensorflow as tf\n",
    "from tensorflow.examples.tutorials.mnist import input_data\n",
    "\n",
    "#超参\n",
    "flags = tf.app.flags\n",
    "flags.DEFINE_string(\"f\", '', \"kernel\")\n",
    "flags.DEFINE_string(\"data_dir\", \"data/\", \"Directionary for storing mnist data\")\n",
    "flags.DEFINE_float(\"learning_rate\", 0.5, \"Learning rate\")\n",
    "FLAGS = flags.FLAGS"
   ]
  },
  {
   "cell_type": "code",
   "execution_count": 30,
   "metadata": {
    "collapsed": true
   },
   "outputs": [],
   "source": [
    "def model():\n",
    "    X = tf.placeholder(shape=[None, 784], dtype=tf.float32, name=\"X\")\n",
    "    Y = tf.placeholder(shape=[None, 10], dtype=tf.float32, name=\"Y\")\n",
    "    with tf.variable_scope('layer1', reuse=tf.AUTO_REUSE):\n",
    "        W = tf.get_variable(name='W', shape=[784, 10], initializer=tf.random_normal_initializer())\n",
    "        b = tf.get_variable(name='b', shape=[10], initializer=tf.constant_initializer(0.))\n",
    "    y = tf.add(tf.matmul(X, W), b)\n",
    "    cost = tf.reduce_mean(tf.nn.softmax_cross_entropy_with_logits(logits=y, labels=Y))\n",
    "    optimzer = tf.train.GradientDescentOptimizer(FLAGS.learning_rate)\n",
    "    train_op = optimzer.minimize(cost)\n",
    "    \n",
    "    mnist = input_data.read_data_sets(FLAGS.data_dir, one_hot=True)\n",
    "    \n",
    "    saver = tf.train.Saver()\n",
    "    with tf.Session() as sess:\n",
    "#         sess.run(tf.global_variables_initializer())\n",
    "        saver.restore(sess, 'args_save/')\n",
    "        for step in range(1000):\n",
    "            batch_x, batch_y = mnist.train.next_batch(100)\n",
    "            sess.run(train_op, feed_dict={X:batch_x, Y:batch_y})\n",
    "            if step%100 == 0:\n",
    "                saver.save(sess, 'args_save/')\n",
    "        correct_prediction = tf.equal(tf.argmax(y, 1), tf.argmax(Y, 1))\n",
    "        accuracy = tf.reduce_mean(tf.cast(correct_prediction, tf.float32))\n",
    "        print(\"acc=%s\"%sess.run(accuracy, feed_dict={X:mnist.test.images, Y:mnist.test.labels}))"
   ]
  },
  {
   "cell_type": "code",
   "execution_count": 29,
   "metadata": {},
   "outputs": [
    {
     "name": "stdout",
     "output_type": "stream",
     "text": [
      "Extracting data/train-images-idx3-ubyte.gz\n",
      "Extracting data/train-labels-idx1-ubyte.gz\n",
      "Extracting data/t10k-images-idx3-ubyte.gz\n",
      "Extracting data/t10k-labels-idx1-ubyte.gz\n",
      "acc=0.8768\n"
     ]
    }
   ],
   "source": [
    "#初始化训练\n",
    "model()"
   ]
  },
  {
   "cell_type": "code",
   "execution_count": 31,
   "metadata": {},
   "outputs": [
    {
     "name": "stdout",
     "output_type": "stream",
     "text": [
      "Extracting data/train-images-idx3-ubyte.gz\n",
      "Extracting data/train-labels-idx1-ubyte.gz\n",
      "Extracting data/t10k-images-idx3-ubyte.gz\n",
      "Extracting data/t10k-labels-idx1-ubyte.gz\n",
      "INFO:tensorflow:Restoring parameters from args_save/\n",
      "acc=0.8909\n"
     ]
    }
   ],
   "source": [
    "#模型读取,继续训练\n",
    "model()"
   ]
  },
  {
   "cell_type": "markdown",
   "metadata": {
    "collapsed": true
   },
   "source": [
    "    模型中有很多名字很长的方法，变量,类似的命名，所以容易出错，可以利用自动补齐，不过还是要清楚命名以及命名规则，注意规范以及注释"
   ]
  },
  {
   "cell_type": "markdown",
   "metadata": {},
   "source": [
    "### 单机会话和分布式会话的父类"
   ]
  },
  {
   "cell_type": "code",
   "execution_count": null,
   "metadata": {
    "collapsed": true
   },
   "outputs": [],
   "source": [
    "from tensorflow.python import pywrap_tensorflow as tf_session\n",
    "\n",
    "class BaseSession(SessionInterface):\n",
    "    \n",
    "    def __init__(self, target='', graph=None, config=None):\n",
    "        #省略数据流图加载和会话配置\n",
    "        self._session = None\n",
    "        opt =tf_session.TF_NewSessionOptions(target=self._target, config)\n",
    "        try:\n",
    "            with errors.raise_exception_on_not_ok_status() as status:\n",
    "                self._session = tf_session.TF_NewSession(opts, status)\n",
    "        finally:\n",
    "            tf_session.TF_DeleteSessionOptions(opts)"
   ]
  },
  {
   "cell_type": "markdown",
   "metadata": {},
   "source": [
    "    会话是通过调用C API定义的NewSession 方法实现的，传入target作为单机（空字符串或者None），分布式（...）参数"
   ]
  },
  {
   "cell_type": "markdown",
   "metadata": {},
   "source": [
    "#### 关于运算节点的运算方式以及CPU，GPU管理参见P117，更多参考文档"
   ]
  },
  {
   "cell_type": "markdown",
   "metadata": {},
   "source": [
    "## 分布式编程框架"
   ]
  },
  {
   "cell_type": "code",
   "execution_count": null,
   "metadata": {
    "collapsed": true
   },
   "outputs": [],
   "source": []
  }
 ],
 "metadata": {
  "kernelspec": {
   "display_name": "Python 3",
   "language": "python",
   "name": "python3"
  },
  "language_info": {
   "codemirror_mode": {
    "name": "ipython",
    "version": 3
   },
   "file_extension": ".py",
   "mimetype": "text/x-python",
   "name": "python",
   "nbconvert_exporter": "python",
   "pygments_lexer": "ipython3",
   "version": "3.6.3"
  }
 },
 "nbformat": 4,
 "nbformat_minor": 2
}
