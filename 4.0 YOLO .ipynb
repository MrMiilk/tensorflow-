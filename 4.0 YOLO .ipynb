{
 "cells": [
  {
   "cell_type": "markdown",
   "metadata": {},
   "source": [
    "#### 不是YOLO的实现"
   ]
  },
  {
   "cell_type": "code",
   "execution_count": null,
   "metadata": {
    "collapsed": true
   },
   "outputs": [],
   "source": [
    "import argparse\n",
    "import os\n",
    "import matplotlib.pyplot as plt\n",
    "from matplotlib.pyplot import imshow\n",
    "import scipy.io\n",
    "import scipy.misc\n",
    "import numpy as np\n",
    "import pandas as pd\n",
    "import PIL\n",
    "import tensorflow as tf\n",
    "from keras import backend as K\n",
    "from keras.layers import Input, Lambda, Conv2D\n",
    "from keras.models import load_model, Model\n",
    "from yolo_utils import read_classes, read_anchors, generate_colors, preprocess_image, draw_boxes, scale_boxes\n",
    "from yad2k.models.keras_yolo import yolo_head, yolo_boxes_to_corners, preprocess_true_boxes, yolo_loss, yolo_body\n",
    "\n",
    "%matplotlib inline"
   ]
  },
  {
   "cell_type": "code",
   "execution_count": null,
   "metadata": {
    "collapsed": true
   },
   "outputs": [],
   "source": [
    "#用score筛选boxes\n",
    "def yolo_filter_boxes(box_confidence, boxes, box_class_probs, threshold=.6):\n",
    "    scores_all = box_confidence * box_class_probs\n",
    "    scores = K.max(scores_all, axis=-1)\n",
    "    classes = K.argmax(scores_all, axis=-1)\n",
    "    mask = scores > threshold\n",
    "    classes = tf.boolean_mask(classes, mask)\n",
    "    boxes = tf.boolean_mask(boxes, mask)\n",
    "    scores = tf.boolean_mask(scores, mask)\n",
    "    \n",
    "    return scores, boxes, classes"
   ]
  },
  {
   "cell_type": "markdown",
   "metadata": {},
   "source": [
    "#### 函数\n",
    "    - K.max(x, axis=None, keepdims=False):默认会去掉筛选后的维\n",
    "    - K.argmax(x, axis=-1):会去掉筛选后的维\n",
    "    - [tf.boolean_mask](https://tensorflow.google.cn/api_docs/python/tf/boolean_mask)\n",
    "        ```python\n",
    "        #形式：\n",
    "        tf.boolean_mask(\n",
    "                tensor, #N-D tensor\n",
    "                mask, #K-D tensor\n",
    "                name='boolean_mask',\n",
    "                axis=None #表示从哪个维度开始，满足K + axis <= N\n",
    "            )\n",
    "            return #(N-K+1)-dimentional tensor\n",
    "        #Example:\n",
    "           # 2-D example\n",
    "            tensor = [[1, 2], [3, 4], [5, 6]]\n",
    "            mask = np.array([True, False, True])\n",
    "            boolean_mask(tensor, mask)  # [[1, 2], [5, 6]]\n",
    "\n",
    "          ```"
   ]
  },
  {
   "cell_type": "markdown",
   "metadata": {},
   "source": [
    "#### 方法\n",
    "    - Tensor 类型也可以使用\n",
    "     ```python\n",
    "     Tensor < n\n",
    "     ```\n",
    "     获取boolen类型的mask\n",
    "    "
   ]
  },
  {
   "cell_type": "code",
   "execution_count": null,
   "metadata": {
    "collapsed": true
   },
   "outputs": [],
   "source": [
    "#IoU定义，注意这里不是Tensor类型的\n",
    "def iou(box1, box2):\n",
    "    xi1 = max(box1[0], box2[0])\n",
    "    yi1 = max(box1[1], box2[1])\n",
    "    xi2 = min(box1[2], box2[2])\n",
    "    yi2 = min(box1[3], box2[3])\n",
    "    inter_area = (xi2 - xi1) * (yi2 - yi1)\n",
    "    \n",
    "    box1_area = (box1[2] - box1[0]) * (box1[3] - box1[1])\n",
    "    box2_area = (box2[2] - box2[0]) * (box2[3] - box2[1])\n",
    "    union_area = box1_area + box2_area - inter_area\n",
    "    \n",
    "    iou = float(inter_area) / union_area\n",
    "\n",
    "    return iou"
   ]
  },
  {
   "cell_type": "code",
   "execution_count": null,
   "metadata": {
    "collapsed": true
   },
   "outputs": [],
   "source": [
    "#基于IoU的非极大值抑制(nms)\n",
    "def yolo_non_max_suppression(scores, boxes, classes, max_boxes = 10, iou_threshold = 0.5):\n",
    "    \"\"\"\n",
    "    Arguments:\n",
    "    scores -- tensor of shape (None,), output of yolo_filter_boxes()\n",
    "    boxes -- tensor of shape (None, 4), output of yolo_filter_boxes() that have been scaled to the image size (see later)\n",
    "    classes -- tensor of shape (None,), output of yolo_filter_boxes()\n",
    "    max_boxes -- integer, maximum number of predicted boxes you'd like\n",
    "    iou_threshold -- real value, \"intersection over union\" threshold used for NMS filtering\n",
    "    \n",
    "    Returns:\n",
    "    scores -- tensor of shape (, None), predicted score for each box\n",
    "    boxes -- tensor of shape (4, None), predicted box coordinates\n",
    "    classes -- tensor of shape (, None), predicted class for each box\n",
    "    \"\"\"\n",
    "    \n",
    "    max_boxes_tensor = K.variable(max_boxes, dtype='int32')\n",
    "    K.get_session().run(tf.variables_initializer([max_boxes_tensor]))\n",
    "\n",
    "    nms_indices = tf.image.non_max_suppression(boxes=boxes, scores=scores, \n",
    "                                              max_output_size=max_boxes_tensor,\n",
    "                                              iou_threshold=iou_threshold,)\n",
    "    \n",
    "    scores = K.gather(scores, nms_indices)\n",
    "    boxes = K.gather(boxes, nms_indices)\n",
    "    classes = K.gather(classes, nms_indices)\n",
    "    \n",
    "    return scores, boxes, classes"
   ]
  },
  {
   "cell_type": "markdown",
   "metadata": {},
   "source": [
    "#### 函数\n",
    "- 一气呵成的tensor变量初始化\n",
    "    ```python\n",
    "        K.get_session().run(tf.variables_initializer([\n",
    "                max_boxes_tensor\n",
    "            ]))\n",
    "    ```\n",
    "- tensorflow 的nms：[tf.image.non_max_suppression](https://tensorflow.google.cn/api_docs/python/tf/image/non_max_suppression)\n",
    "    ```python\n",
    "        tf.image.non_max_suppression(\n",
    "            boxes, # A 2-D float Tensor of shape [num_boxes, 4]\n",
    "            scores, # A 1-D float Tensor of shape [num_boxes]\n",
    "            max_output_size, #输出的最多boxes\n",
    "            iou_threshold=0.5,\n",
    "            score_threshold=float('-inf'),\n",
    "            name=None\n",
    "        )\n",
    "        return #A 1-D integer Tensor of shape [M]，M <= max_output_size\n",
    "    ```\n",
    "- 在给定的张量中检索给定下标的向量\n",
    "    ```python\n",
    "        K.gather(reference, indices)\n",
    "#     reference：张量\n",
    "#     indices：整数张量，其元素为要查询的下标\n",
    "    ```"
   ]
  },
  {
   "cell_type": "markdown",
   "metadata": {},
   "source": [
    "#### 方法\n",
    "- tensorflow的nms方法要求max_output_size为tensor，应该加入trainable=False"
   ]
  },
  {
   "cell_type": "code",
   "execution_count": null,
   "metadata": {
    "collapsed": true
   },
   "outputs": [],
   "source": [
    "#构成yolo末端的筛选\n",
    "def yolo_eval(yolo_outputs, image_shape = (720., 1280.), max_boxes=10, score_threshold=.6, iou_threshold=.5):\n",
    "    #直接接受convNet输出\n",
    "    box_confidence, box_xy, box_wh, box_class_probs = yolo_outputs\n",
    "\n",
    "    # 将xy wh位置信息转化为角点位置信息 \n",
    "    boxes = yolo_boxes_to_corners(box_xy, box_wh)\n",
    "\n",
    "    # score筛选\n",
    "    scores, boxes, classes = yolo_filter_boxes(box_confidence, boxes, box_class_probs, score_threshold)\n",
    "    \n",
    "    # 转化回xy wh 位置信息\n",
    "    boxes = scale_boxes(boxes, image_shape)\n",
    "\n",
    "    # nms\n",
    "    scores, boxes, classes = yolo_non_max_suppression(scores, boxes, classes, max_boxes, iou_threshold)\n",
    "    \n",
    "    return scores, boxes, classes"
   ]
  },
  {
   "cell_type": "code",
   "execution_count": null,
   "metadata": {
    "collapsed": true
   },
   "outputs": [],
   "source": [
    "sess = K.get_session()\n",
    "#读取模型\n",
    "class_names = read_classes(\"model_data/coco_classes.txt\")\n",
    "anchors = read_anchors(\"model_data/yolo_anchors.txt\")\n",
    "image_shape = (720., 1280.)\n",
    "yolo_model = load_model(\"model_data/yolo.h5\")\n"
   ]
  },
  {
   "cell_type": "code",
   "execution_count": null,
   "metadata": {
    "collapsed": true
   },
   "outputs": [],
   "source": [
    "#查看模型参数\n",
    "yolo_model.summary()"
   ]
  },
  {
   "cell_type": "code",
   "execution_count": null,
   "metadata": {
    "collapsed": true
   },
   "outputs": [],
   "source": [
    "#获取yolo的输出，即，将yolo输出添加到计算图中，然后连接到之前定义的图中\n",
    "yolo_outputs = yolo_head(yolo_model.output, anchors, len(class_names))\n",
    "scores, boxes, classes = yolo_eval(yolo_outputs, image_shape)"
   ]
  },
  {
   "cell_type": "code",
   "execution_count": null,
   "metadata": {
    "collapsed": true
   },
   "outputs": [],
   "source": [
    "def predict(sess, image_file):\n",
    "    \n",
    "    image, image_data = preprocess_image(\"images/\" + image_file, model_image_size = (416, 416))\n",
    "    #运行计算图\n",
    "    out_scores, out_boxes, out_classes = sess.run([scores, boxes, classes], feed_dict={\n",
    "        yolo_model.input:image_data,K.learning_phase(): 0\n",
    "    })\n",
    "\n",
    "    # Print predictions info\n",
    "    print('Found {} boxes for {}'.format(len(out_boxes), image_file))\n",
    "    # Generate colors for drawing bounding boxes.\n",
    "    colors = generate_colors(class_names)\n",
    "    # Draw bounding boxes on the image file\n",
    "    draw_boxes(image, out_scores, out_boxes, out_classes, class_names, colors)\n",
    "    # Save the predicted bounding box on the image\n",
    "    image.save(os.path.join(\"out\", image_file), quality=90)\n",
    "    # Display the results in the notebook\n",
    "    output_image = scipy.misc.imread(os.path.join(\"out\", image_file))\n",
    "    imshow(output_image)\n",
    "    \n",
    "    return out_scores, out_boxes, out_classes"
   ]
  },
  {
   "cell_type": "code",
   "execution_count": null,
   "metadata": {
    "collapsed": true
   },
   "outputs": [],
   "source": [
    "#调用\n",
    "out_scores, out_boxes, out_classes = predict(sess, \"test.jpg\")"
   ]
  }
 ],
 "metadata": {
  "kernelspec": {
   "display_name": "Python 3",
   "language": "python",
   "name": "python3"
  },
  "language_info": {
   "codemirror_mode": {
    "name": "ipython",
    "version": 3
   },
   "file_extension": ".py",
   "mimetype": "text/x-python",
   "name": "python",
   "nbconvert_exporter": "python",
   "pygments_lexer": "ipython3",
   "version": "3.6.3"
  }
 },
 "nbformat": 4,
 "nbformat_minor": 2
}
