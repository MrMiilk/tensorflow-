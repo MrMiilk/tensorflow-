{
 "cells": [
  {
   "cell_type": "markdown",
   "metadata": {},
   "source": [
    "### 论文阅读和笔记在onenote上\n"
   ]
  },
  {
   "cell_type": "code",
   "execution_count": null,
   "metadata": {
    "collapsed": true
   },
   "outputs": [],
   "source": [
    "#passthrouht层\n",
    "out = tf.extract_image_patches(in, ksizes=[1, stride, stride, 1], strides=[1, stride, stride, 1], rates=[1, 1, 1, 1], padding='VALID')\n",
    "\"\"\"\n",
    "strides 当成范围\n",
    "ksizes  为抽样出来的大小\n",
    "rates   为原图像每隔多次抽取一次\n",
    "\"\"\"\n",
    "#或者\n",
    "out = tf.space_to_depth()"
   ]
  },
  {
   "cell_type": "markdown",
   "metadata": {},
   "source": [
    "- [extract_image_patches](https://stackoverflow.com/questions/40731433/understanding-tf-extract-image-patches-for-extracting-patches-from-an-image?newreg=2f7aa12c4b6d4870a979698318d457a4)\n",
    "- [sparce_to_depth](https://www.w3cschool.cn/tensorflow_python/tensorflow_python-rkfq2kf9.html)"
   ]
  },
  {
   "cell_type": "code",
   "execution_count": 16,
   "metadata": {},
   "outputs": [
    {
     "name": "stdout",
     "output_type": "stream",
     "text": [
      "[[[[ 1  2  3 11 12 13 21 22 23]\n",
      "   [ 6  7  8 16 17 18 26 27 28]]\n",
      "\n",
      "  [[51 52 53 61 62 63 71 72 73]\n",
      "   [56 57 58 66 67 68 76 77 78]]]]\n",
      "[[[[  1   3   5  21  23  25  41  43  45]\n",
      "   [  6   8  10  26  28  30  46  48  50]]\n",
      "\n",
      "  [[ 51  53  55  71  73  75  91  93  95]\n",
      "   [ 56  58  60  76  78  80  96  98 100]]]]\n"
     ]
    }
   ],
   "source": [
    "import tensorflow as tf\n",
    "\n",
    "n = 10\n",
    "# images is a 1 x 10 x 10 x 1 array that contains the numbers 1 through 100 in order\n",
    "images = [[[[x * n + y + 1] for y in range(n)] for x in range(n)]]\n",
    "\n",
    "# We generate four outputs as follows:\n",
    "# 1. 3x3 patches with stride length 5\n",
    "# 2. Same as above, but the rate is increased to 2\n",
    "# 3. 4x4 patches with stride length 7; only one patch should be generated\n",
    "# 4. Same as above, but with padding set to 'SAME'\n",
    "with tf.Session() as sess:\n",
    "    print (tf.extract_image_patches(images=images, ksizes=[1, 3, 3, 1], strides=[1, 5, 5, 1], rates=[1, 1, 1, 1], padding='VALID').eval())\n",
    "    print (tf.extract_image_patches(images=images, ksizes=[1, 3, 3, 1], strides=[1, 5, 5, 1], rates=[1, 2, 2, 1], padding='VALID').eval())\n",
    "  "
   ]
  },
  {
   "cell_type": "code",
   "execution_count": null,
   "metadata": {
    "collapsed": true
   },
   "outputs": [],
   "source": [
    "\"\"\"可以看成如下：\n",
    " *  *  *  4  5  *  *  *  9 10 \n",
    " *  *  * 14 15  *  *  * 19 20 \n",
    " *  *  * 24 25  *  *  * 29 30 \n",
    "31 32 33 34 35 36 37 38 39 40 \n",
    "41 42 43 44 45 46 47 48 49 50 \n",
    " *  *  * 54 55  *  *  * 59 60 \n",
    " *  *  * 64 65  *  *  * 69 70 \n",
    " *  *  * 74 75  *  *  * 79 80 \n",
    "81 82 83 84 85 86 87 88 89 90 \n",
    "91 92 93 94 95 96 97 98 99 100 \n",
    "\"\"\""
   ]
  },
  {
   "cell_type": "code",
   "execution_count": null,
   "metadata": {
    "collapsed": true
   },
   "outputs": [],
   "source": []
  }
 ],
 "metadata": {
  "kernelspec": {
   "display_name": "Python 3",
   "language": "python",
   "name": "python3"
  },
  "language_info": {
   "codemirror_mode": {
    "name": "ipython",
    "version": 3
   },
   "file_extension": ".py",
   "mimetype": "text/x-python",
   "name": "python",
   "nbconvert_exporter": "python",
   "pygments_lexer": "ipython3",
   "version": "3.6.3"
  }
 },
 "nbformat": 4,
 "nbformat_minor": 2
}
