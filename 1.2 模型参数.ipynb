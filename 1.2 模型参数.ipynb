{
 "cells": [
  {
   "cell_type": "code",
   "execution_count": 1,
   "metadata": {
    "collapsed": true
   },
   "outputs": [],
   "source": [
    "import tensorflow as tf\n",
    "import numpy as np\n",
    "import matplotlib.pyplot as plt\n",
    "%matplotlib inline"
   ]
  },
  {
   "cell_type": "markdown",
   "metadata": {},
   "source": [
    "## 模型参数\n",
    "- 数据流图中的可训练参数几乎就是权重值，偏置值\n",
    "- 存储：checkpoint <变量， 张量值>，ckpt文件（P92）"
   ]
  },
  {
   "cell_type": "markdown",
   "metadata": {},
   "source": [
    "### 创建，初始化，更新"
   ]
  },
  {
   "cell_type": "markdown",
   "metadata": {},
   "source": [
    "#### 1 创建\n",
    "- 常见的生成方式(P93)\n",
    "    - 正态分布，截尾正态分布，均匀分布，多项式分布，伽马分布等\n",
    "    - random_shuffle：按维度重洗\n",
    "    - zero_like()之类的，利用某种生成规则\n",
    "    - constant，常量\n",
    "- 利用已经创建的量\n",
    "    - Tensor.initialized_value(),可以放缩等处理作为别的变量"
   ]
  },
  {
   "cell_type": "code",
   "execution_count": null,
   "metadata": {
    "collapsed": true
   },
   "outputs": [],
   "source": [
    "#使用initialized_value()方法，注意不能直接把变量实例传进去\n",
    "W = tf.Variable(tf.random_normal(shape=(1, 4), steddev=0.35), name='W')\n",
    "W2 = tf.Variable(W.initialized_value()*2, name='W2')"
   ]
  },
  {
   "cell_type": "code",
   "execution_count": null,
   "metadata": {
    "collapsed": true
   },
   "outputs": [],
   "source": [
    "W = tf.Variable(tf.random_normal(shape=(1, 4), stddev=0.35), name='W')\n",
    "    W2 = tf.Variable(W.initialized_value(), name='W2')\n",
    "\n",
    "    initer = tf.global_variables_initializer()\n",
    "    with tf.Session() as sess:\n",
    "        sess.run(initer)\n",
    "        writer = tf.summary.FileWriter('logs_1/', sess.graph)"
   ]
  },
  {
   "cell_type": "markdown",
   "metadata": {},
   "source": [
    "    得到的图如下，initial_value变为一个数据生成器\n",
    "![](imgs/8.png)"
   ]
  },
  {
   "cell_type": "markdown",
   "metadata": {},
   "source": [
    "#### 2 初始化\n",
    "- 初始化全局变量 tf.global_variable_initializer(), 在分布系统中能够实现跨设备全局初始化。实际上也是调用下一个方法(P96)\n",
    "- 部分变量 tf.variable_initializer(var_list, name),这里var_list是同类变量集合列表，5类(P96), 在创建变量时可以直接通过collection指定，collection的默认为GraphKeys.GLOBAL_VARIABLES,即全局变量\n",
    "    ```python\n",
    "        W = tf.Variable(W, collections=[GraphKeys.GLOBAL_VARIABLES])\n",
    "    ```\n",
    "    - tensorflow提供了5种不同的变量集合类型，通过各自名称的小写表示可以得到对应集合，比如tf.global_variables()\n",
    "- 变量初始化的调试变量方法(P96)\n",
    "    - 是否初始化：\n",
    "    - 未初始化变量集合列表获取\n",
    "    - 初始化断言"
   ]
  },
  {
   "cell_type": "markdown",
   "metadata": {},
   "source": [
    "#### 3 模型参数更新\n",
    "- 模型参数更新实际上是对变量的重新赋值\n",
    "- tf.assign(W, 1.) 注意：在数据流图不变下对变量进行更新，比如梯度的更新，而不是直接用‘=’赋值"
   ]
  },
  {
   "cell_type": "markdown",
   "metadata": {},
   "source": [
    "### 模型保存(P98)"
   ]
  },
  {
   "cell_type": "markdown",
   "metadata": {},
   "source": [
    "## 模块化的网络搭建\n",
    "- 使用变量作用域\n",
    "    - [tf.get_variable(name, shape, initializer)](https://tensorflow.google.cn/api_docs/python/tf/get_variable)：创建或获取指定名称的变量\n",
    "        - 注意一下有一个不常用但应该用的reguglarizer参数\n",
    "        - initializer:\n",
    "            - [tf.constant_initializer](https://tensorflow.google.cn/api_docs/python/tf/constant_initializer)\n",
    "            - tf.random_uniform_initializer\n",
    "            - tf.random_normal_initializer\n",
    "    - [tf.variable_scope]():用于管理变量子空间"
   ]
  },
  {
   "cell_type": "code",
   "execution_count": null,
   "metadata": {
    "collapsed": true
   },
   "outputs": [],
   "source": [
    "#(添加)一个卷积层的函数\n",
    "def conv_relu(inputs, params):\n",
    "    kernel_shape, bias_shape, strides, padding = some_function(params)\n",
    "    weights = tf.get_variable(name='weights', shape=kernel_shape, initializer=tf.random_normal_initializer())\n",
    "    biases = tf.get_variable(name='biases', shape=bias_shape, initizlizer=tf.constant_initializer(0.))\n",
    "    conv = tf.nn.conv2d(inputs, weights, strides, padding)\n",
    "    return tf.nn.relu(conv + biases)"
   ]
  },
  {
   "cell_type": "markdown",
   "metadata": {},
   "source": [
    "##### 这里如果第二次调用model()会产生ValueError异常，用当加上reuse参数(P102)"
   ]
  },
  {
   "cell_type": "code",
   "execution_count": null,
   "metadata": {
    "collapsed": true
   },
   "outputs": [],
   "source": [
    "def model(inputs, params):\n",
    "    #with 上下文定义的变量，会加上variable_scope()中定义的前缀\n",
    "    with tf.variable_scope('conv1', reuse=True):#conv1/weight\n",
    "        A1 = conv_relu(inputs, params)\n",
    "    with tf.variable_scope('conv2', reuse=True):\n",
    "        A2 = conv_relu(A1, params)"
   ]
  },
  {
   "cell_type": "markdown",
   "metadata": {},
   "source": [
    "##### 关于变量名称，嵌套命名"
   ]
  },
  {
   "cell_type": "code",
   "execution_count": null,
   "metadata": {
    "collapsed": true
   },
   "outputs": [],
   "source": [
    "with tf.variable_scope('foo'):\n",
    "    with tf.variable_scope('bar'):\n",
    "        v = tf.get_variable(\"v\", [1])\n",
    "assert v.name == \"foo/bar/v:0\""
   ]
  },
  {
   "cell_type": "markdown",
   "metadata": {},
   "source": [
    "##### 关于初始化方法，嵌套关系"
   ]
  },
  {
   "cell_type": "code",
   "execution_count": null,
   "metadata": {
    "collapsed": true
   },
   "outputs": [],
   "source": [
    "with tf.variable_scope('foo', initializer=tf.constant_initializer(.4), reuse=True):\n",
    "    v = tf.get_variable('v', shape=[1])#继承前面的初始化方法\n",
    "    w = tf.get_variable('w', [1], initializer=tf.random_normal_initializer())#使用自己的初始化方法\n",
    "    with tf.variable_scope('bar', initializer=tf.random_uniform_initializer()):\n",
    "        c = tf.get_variable('c', [1])#如果自己没有定义，就使用最接近的初始化方法"
   ]
  },
  {
   "cell_type": "markdown",
   "metadata": {},
   "source": [
    "#### 变量名子空间\n",
    "- tf.variable_scope()\n",
    "- tf.name_scope()\n",
    "- tf.get_variable()是创建或获取指定名称的变量，name_scope()不会作为命名的一部分"
   ]
  },
  {
   "cell_type": "code",
   "execution_count": null,
   "metadata": {
    "collapsed": true
   },
   "outputs": [],
   "source": []
  }
 ],
 "metadata": {
  "kernelspec": {
   "display_name": "Python 3",
   "language": "python",
   "name": "python3"
  },
  "language_info": {
   "codemirror_mode": {
    "name": "ipython",
    "version": 3
   },
   "file_extension": ".py",
   "mimetype": "text/x-python",
   "name": "python",
   "nbconvert_exporter": "python",
   "pygments_lexer": "ipython3",
   "version": "3.6.3"
  }
 },
 "nbformat": 4,
 "nbformat_minor": 2
}
