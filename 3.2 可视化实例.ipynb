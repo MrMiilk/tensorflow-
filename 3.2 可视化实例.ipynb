{
 "cells": [
  {
   "cell_type": "code",
   "execution_count": 1,
   "metadata": {
    "collapsed": true
   },
   "outputs": [],
   "source": [
    "import math\n",
    "import numpy as np\n",
    "import h5py\n",
    "import matplotlib.pyplot as plt\n",
    "import scipy\n",
    "from PIL import Image\n",
    "from scipy import ndimage\n",
    "import tensorflow as tf\n",
    "from tensorflow.python.framework import ops\n",
    "from cnn_utils import *"
   ]
  },
  {
   "cell_type": "code",
   "execution_count": 2,
   "metadata": {
    "collapsed": true
   },
   "outputs": [],
   "source": [
    "X_train_orig, Y_train_orig, X_test_orig, Y_test_orig, classes = load_dataset()"
   ]
  },
  {
   "cell_type": "code",
   "execution_count": 3,
   "metadata": {},
   "outputs": [
    {
     "name": "stdout",
     "output_type": "stream",
     "text": [
      "X_train shape: (1080, 64, 64, 3)\n",
      "Y_train shape: (1, 1080)\n",
      "X_test shape: (120, 64, 64, 3)\n",
      "Y_test shape: (1, 120)\n"
     ]
    },
    {
     "data": {
      "text/plain": [
       "'\\n训练集：1080样本，每个64x64x3\\n测试集：120样本\\n'"
      ]
     },
     "execution_count": 3,
     "metadata": {},
     "output_type": "execute_result"
    }
   ],
   "source": [
    "print('X_train shape:', X_train_orig.shape)\n",
    "print('Y_train shape:', Y_train_orig.shape)\n",
    "print('X_test shape:', X_test_orig.shape)\n",
    "print('Y_test shape:', Y_test_orig.shape)\n",
    "'''\n",
    "训练集：1080样本，每个64x64x3\n",
    "测试集：120样本\n",
    "'''"
   ]
  },
  {
   "cell_type": "code",
   "execution_count": 4,
   "metadata": {},
   "outputs": [
    {
     "name": "stdout",
     "output_type": "stream",
     "text": [
      "Label: 5\n"
     ]
    },
    {
     "data": {
      "image/png": "[encoded data removed]",
      "text/plain": [
       "<matplotlib.figure.Figure at 0x16784d1f080>"
      ]
     },
     "metadata": {},
     "output_type": "display_data"
    }
   ],
   "source": [
    "%matplotlib inline\n",
    "sa_index = 3\n",
    "sample = X_train_orig[sa_index]\n",
    "sample_class = Y_train_orig[:, sa_index]\n",
    "plt.imshow(sample)\n",
    "print('Label:', str(np.squeeze(sample_class)))"
   ]
  },
  {
   "cell_type": "code",
   "execution_count": 5,
   "metadata": {
    "collapsed": true
   },
   "outputs": [],
   "source": [
    "def convert_to_one_hot(Y, C):\n",
    "    Y = np.eye(C)[Y.reshape(-1)]\n",
    "    return Y"
   ]
  },
  {
   "cell_type": "code",
   "execution_count": 6,
   "metadata": {
    "collapsed": true
   },
   "outputs": [],
   "source": [
    "def create_placeholder(X_shape, Y_shape):\n",
    "    '''\n",
    "    '''\n",
    "    (m, n_H0, n_W0, n_C0) = X_shape\n",
    "    (_, n_y) = Y_shape\n",
    "    with tf.name_scope('input'):\n",
    "        X = tf.placeholder(shape=[None, n_H0, n_W0, n_C0], dtype=tf.float32, name='X')\n",
    "    Y = tf.placeholder(shape=[None, n_y], dtype=tf.float32, name='Y_hat')\n",
    "    \n",
    "    return X, Y"
   ]
  },
  {
   "cell_type": "code",
   "execution_count": 15,
   "metadata": {
    "collapsed": true
   },
   "outputs": [],
   "source": [
    "def initialize_parameters(init_parm):\n",
    "    '''\n",
    "    init_parm:每一层的参数字典\n",
    "                {layer_index:{filter_shape, conv_stride, conv_pad, \n",
    "                            act_func, \n",
    "                            pool, pool_param:[pool_ksize, pool_stride, pool_pad]}\n",
    "                    ...\n",
    "                }\n",
    "    '''\n",
    "    initialize = tf.contrib.layers.xavier_initializer(seed=0)\n",
    "    L = len(init_parm.keys())\n",
    "    filters = {}\n",
    "    for l in range(1, L+1):\n",
    "        filters['W' + str(l)] = tf.get_variable(shape=init_parm[l]['filter_shape'], dtype=tf.float32, initializer=initialize, name='W1' + str(l))\n",
    "    return filters"
   ]
  },
  {
   "cell_type": "code",
   "execution_count": 16,
   "metadata": {
    "collapsed": true
   },
   "outputs": [],
   "source": [
    "def add_layer(index, inpt, filt, s, pad, pool, pool_param, activate_func='ReLu'):\n",
    "    with tf.name_scope('layer' + str(index)):\n",
    "        #conv layer\n",
    "        Z = tf.nn.conv2d(input=inpt, filter=filt, strides=[1, s, s, 1], padding=pad)\n",
    "        #ReLu layer\n",
    "        if activate_func == 'ReLu':\n",
    "            A = tf.nn.relu(Z)\n",
    "        else:\n",
    "            A = Z\n",
    "        #max_pool layer\n",
    "        if pool == 'max':\n",
    "            pool_k, pool_s, pool_pad = pool_param\n",
    "            P = tf.nn.max_pool(A, ksize=[1, pool_k, pool_k, 1], strides=[1, pool_s, pool_s, 1], padding=pool_pad)\n",
    "        else:\n",
    "            P = A\n",
    "    return P"
   ]
  },
  {
   "cell_type": "code",
   "execution_count": 17,
   "metadata": {
    "collapsed": true
   },
   "outputs": [],
   "source": [
    "def forward_propagation(X, init_param, filters):\n",
    "    '''\n",
    "    init_parm:\n",
    "    filters:\n",
    "    '''\n",
    "    L = len(init_param.keys())\n",
    "    A = X\n",
    "    for l in range(1, L+1):\n",
    "        params = init_param[l]\n",
    "        A = add_layer(l, A, filters['W' + str(l)], s=params['conv_stride'], pad=params['conv_pad'], pool=params['pool'], pool_param=params['pool_param'])\n",
    "    with tf.name_scope('Final_Layer'):\n",
    "        F = tf.contrib.layers.flatten(A)\n",
    "        Z = tf.contrib.layers.fully_connected(F, CLASSES, activation_fn=None,)\n",
    "    return Z"
   ]
  },
  {
   "cell_type": "code",
   "execution_count": 18,
   "metadata": {
    "collapsed": true
   },
   "outputs": [],
   "source": [
    "def compute_cost(Z, Y):\n",
    "    with tf.name_scope('cost_calculate'):\n",
    "        cost = tf.reduce_mean(tf.nn.softmax_cross_entropy_with_logits(logits=Z, labels=Y), name='cost')\n",
    "    return cost"
   ]
  },
  {
   "cell_type": "code",
   "execution_count": 1,
   "metadata": {
    "collapsed": true
   },
   "outputs": [],
   "source": [
    "def random_mini_batches(X, Y, minibatch_size=64, seed=0):\n",
    "    m = X.shape[0]\n",
    "    mini_batches = []\n",
    "    np.random.seed(seed)\n",
    "    num_batches = int(m/minibatch_size)\n",
    "    \n",
    "    permutation = list(np.random.permutation(m))\n",
    "    shuffled_X = X[permutation]\n",
    "    shuffled_Y = Y[permutation]\n",
    "    \n",
    "    batch = 0\n",
    "    for batch in range(num_batches):\n",
    "        batch_X = shuffled_X[batch*minibatch_size:(batch + 1)*minibatch_size]\n",
    "        batch_Y = shuffled_Y[batch*minibatch_size:(batch + 1)*minibatch_size]\n",
    "        mini_batches.append([batch_X, batch_Y])\n",
    "    if m%minibatch_size != 0:\n",
    "        batch_X = shuffled_X[(batch + 1)*minibatch_size : m]\n",
    "        batch_Y = shuffled_Y[(batch + 1)*minibatch_size : m]\n",
    "        mini_batches.append([batch_X, batch_Y])\n",
    "    return mini_batches"
   ]
  },
  {
   "cell_type": "code",
   "execution_count": 19,
   "metadata": {
    "collapsed": true
   },
   "outputs": [],
   "source": [
    "def model(X_train, Y_train, X_test, Y_test, init_param, learning_rate=0.011, epochs=100, minibatch_size=64, print_cost=False):\n",
    "    '''\n",
    "    init_parm:每一层的参数字典\n",
    "                {layer_index:{filter_shape, conv_stride, conv_pad,\n",
    "                            act_func,\n",
    "                            pool, pool_param:[pool_ksize, pool_stride, pool_pad]}\n",
    "                    ...\n",
    "                }\n",
    "    '''\n",
    "    (m, n_H0, n_W0, n_C0) = X_train.shape\n",
    "    (_, n_y) = Y_train.shape\n",
    "\n",
    "    X, Y = create_placeholder(X_train.shape, Y_train.shape)\n",
    "    filters = initialize_parameters(init_param)\n",
    "    Z = forward_propagation(X, init_param, filters)\n",
    "    cost = compute_cost(Z, Y)\n",
    "    with tf.name_scope('Train'):\n",
    "        optimizer = tf.train.AdamOptimizer(learning_rate).minimize(cost)\n",
    "\n",
    "    with tf.name_scope('Pred'):\n",
    "        pred = tf.argmax(Z, 1)\n",
    "        pred_true = tf.equal(pred, tf.argmax(Y, 1))\n",
    "        accuracy = tf.reduce_mean(tf.cast(pred_true, tf.float32), name='Accuracy')\n",
    "\n",
    "    initer = tf.global_variables_initializer()\n",
    "    saver = tf.train.Saver()\n",
    "    cost_recorder = []\n",
    "\n",
    "    with tf.Session() as sess:\n",
    "        merged = tf.summary.merge_all()\n",
    "        writer = tf.summary.FileWriter('logs/', sess.graph)\n",
    "        sess.run(initer)\n",
    "\n",
    "        num_batches = int(m/minibatch_size)\n",
    "        for epoch in range(epochs):\n",
    "            epoch_cost = 0.\n",
    "            mini_batches = random_mini_batches(X_train, Y_train, minibatch_size, seed=epoch)\n",
    "            for [batch_X, batch_Y] in mini_batches:\n",
    "                food = {\n",
    "                    X: batch_X,\n",
    "                    Y: batch_Y\n",
    "                }\n",
    "                sess.run(optimizer, feed_dict=food)\n",
    "                epoch_cost += sess.run(cost, feed_dict=food)\n",
    "            epoch_cost /= num_batches\n",
    "            cost_recorder.append(epoch_cost)\n",
    "            if (epoch + 1) % 5 == 1:\n",
    "                print('Cost after Iter: %i\\t: %f'%(epoch, epoch_cost))\n",
    "                reus = sess.run(merged, feed_dict={X:X_train, Y:Y_train})\n",
    "                writer.add_summary(reus, epoch)\n",
    "        # saver.save(sess, 'my_net/save_1.ckpt')\n",
    "        test_accuracy = accuracy.eval({X: X_test, Y: Y_test})\n",
    "        print(\"Test Accuracy:\", test_accuracy)"
   ]
  },
  {
   "cell_type": "code",
   "execution_count": 20,
   "metadata": {
    "collapsed": true
   },
   "outputs": [],
   "source": [
    "#配置\n",
    "\n",
    "np.random.seed(1)\n",
    "tf.set_random_seed(1)\n",
    "SEED = 1\n",
    "CLASSES = 6\n",
    "learning_rate = 0.011\n",
    "init_parm = {\n",
    "    1:{\n",
    "        'filter_shape':[4, 4, 3, 8],\n",
    "        'conv_stride':1,\n",
    "        'conv_pad':'SAME',\n",
    "        'act_func':'ReLu',\n",
    "        'pool':'max',\n",
    "        'pool_param':[8, 8, 'SAME']\n",
    "    },\n",
    "    2:{\n",
    "        'filter_shape':[2, 2, 8, 16],\n",
    "        'conv_stride':1,\n",
    "        'conv_pad':'SAME',\n",
    "        'act_func':'ReLu',\n",
    "        'pool':'max',\n",
    "        'pool_param':[4, 4, 'SAME']\n",
    "    }\n",
    "}"
   ]
  },
  {
   "cell_type": "code",
   "execution_count": 21,
   "metadata": {},
   "outputs": [
    {
     "name": "stdout",
     "output_type": "stream",
     "text": [
      "X_train shape: (1080, 64, 64, 3)\n",
      "Y_train shape: (1080, 6)\n"
     ]
    }
   ],
   "source": [
    "X_train = X_train_orig/255.\n",
    "X_test = X_test_orig/255.\n",
    "Y_train = convert_to_one_hot(Y_train_orig, CLASSES)\n",
    "Y_test = convert_to_one_hot(Y_test_orig, CLASSES)\n",
    "print('X_train shape:', X_train.shape)\n",
    "print('Y_train shape:', Y_train.shape)"
   ]
  },
  {
   "cell_type": "code",
   "execution_count": 22,
   "metadata": {},
   "outputs": [
    {
     "name": "stdout",
     "output_type": "stream",
     "text": [
      "WARNING:tensorflow:From <ipython-input-18-16cdfea0b478>:3: softmax_cross_entropy_with_logits (from tensorflow.python.ops.nn_ops) is deprecated and will be removed in a future version.\n",
      "Instructions for updating:\n",
      "\n",
      "Future major versions of TensorFlow will allow gradients to flow\n",
      "into the labels input on backprop by default.\n",
      "\n",
      "See tf.nn.softmax_cross_entropy_with_logits_v2.\n",
      "\n"
     ]
    }
   ],
   "source": [
    "model(X_train, Y_train, init_parm, learning_rate)"
   ]
  },
  {
   "cell_type": "code",
   "execution_count": null,
   "metadata": {
    "collapsed": true
   },
   "outputs": [],
   "source": [
    "layers_params: (dictionary) {\n",
    "                            layer_index(int):{\n",
    "                                'layer_type':\"relu\",\n",
    "                                'inner_layer_params':[size, stride, padding],\n",
    "                                'act_func':\"\"\n",
    "                                'pooling':[pooling_type, [ksize, stride, padding]]\n",
    "                                    };\n",
    "                            ayrt_index(int):{\n",
    "                                'layer_type':\"fc\",\n",
    "                                'flatten':(bool),\n",
    "                                'num_output':(int)\n",
    "                                    }\n",
    "                        }"
   ]
  },
  {
   "cell_type": "code",
   "execution_count": null,
   "metadata": {
    "collapsed": true
   },
   "outputs": [],
   "source": []
  }
 ],
 "metadata": {
  "kernelspec": {
   "display_name": "Python 3",
   "language": "python",
   "name": "python3"
  },
  "language_info": {
   "codemirror_mode": {
    "name": "ipython",
    "version": 3
   },
   "file_extension": ".py",
   "mimetype": "text/x-python",
   "name": "python",
   "nbconvert_exporter": "python",
   "pygments_lexer": "ipython3",
   "version": "3.6.3"
  }
 },
 "nbformat": 4,
 "nbformat_minor": 2
}
