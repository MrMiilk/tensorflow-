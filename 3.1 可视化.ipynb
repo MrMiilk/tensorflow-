{
 "cells": [
  {
   "cell_type": "markdown",
   "metadata": {},
   "source": [
    "## tf.Summary\n",
    "- 用Web形式展示，便于分布式或跨平台应用\n",
    "- Summary Ops:主要用于获取张量\n",
    "    - audio\n",
    "    - image\n",
    "    - scalar\n",
    "    - historgram\n",
    "    - **merge_all**：将所有汇总操作汇聚在一起，生成一个汇聚操作 merged，是所有汇总操作的后置操作\n",
    "- Filer Writer：用于向事件文件写入序列化数据，包括(P141)：**在P164有定义proto文件**\n",
    "    - 汇总数据：一组将被可视化的具名数值，包括图像音频等\n",
    "    - 事件数据：执行操作时产生的事件信息，像世间戳，全局步数等\n",
    "    - 数据流图：当前会话加载的默认数据流图\n",
    "- Summary：汇总数据\n",
    "- Event：事件数据"
   ]
  },
  {
   "cell_type": "markdown",
   "metadata": {},
   "source": [
    "## 可视化"
   ]
  },
  {
   "cell_type": "markdown",
   "metadata": {},
   "source": [
    "### 节点\n",
    "- 之前已经知道的有计算，存储，数据节点\n",
    "- 引入抽象节点：一组特定操作的集合，在网络中通常会将功能相同的操作整合为一个抽象节点\n",
    "- 关于name_scope和variable_scope的[区别](https://blog.csdn.net/u012436149/article/details/53081454?_t_t_t=0.5758701422798641)  \n",
    "    - name_scope对 get_variable()创建的变量 的名字不会有任何影响,而创建的op或者变量会被加上前缀\n",
    "    - 使用tf.get_variable()的时候，tf.name_scope()就不会给 tf.get_variable()创建出来的Variable加前缀。但是 tf.Variable() 创建出来的就会受到 name_scope 的影响.\n",
    "- 实例：**将op和变量等定义到一层，下面这个例子中形成全连接层，比如再和可能有的非线性激活结合，再往上封装**"
   ]
  },
  {
   "cell_type": "code",
   "execution_count": null,
   "metadata": {
    "collapsed": true
   },
   "outputs": [],
   "source": [
    "#通过多层命名简化数据流图\n",
    "with tf.variable_scope('layer_one', reuse=True):\n",
    "    with tf.variable_scope('weight'):\n",
    "        weight = tf.get_variable('w', [10, 2], tf.randon_normal_initializer())\n",
    "    with tf.variable_scope('bias', reuse=True):\n",
    "        bias = tf.get_variable('b', [1, 2], tf.constant_initializer())\n",
    "    #这里通过多层定义使得网络更加整洁\n",
    "    with tf.name_scope('Wx_plus_b'):\n",
    "        y = tf.add(tf.matmul(x, weight), bias)"
   ]
  },
  {
   "cell_type": "markdown",
   "metadata": {},
   "source": [
    "##### mnist数据集的实例"
   ]
  },
  {
   "cell_type": "code",
   "execution_count": null,
   "metadata": {
    "collapsed": true
   },
   "outputs": [],
   "source": [
    "import tensorflow as tf\n",
    "from tensorflow.example.tutorials.mnist import input_data\n",
    "\n",
    "\n",
    "mnist = input_data.read_data_sets('data/', one_hot=True)\n",
    "#输入\n",
    "with tf.name_scope('input'):\n",
    "    X = tf.placeholder(dtype=tf.float32, shape=[None, 784], name='X')\n",
    "    Y = tf.placeholder(dtype=tf.float32, shape=[None, 10], name='Y')\n",
    "#可视化\n",
    "with tf.name_scope('reshape'):\n",
    "    image_shaped_input = tf.reshape(x, [-1, 28, 28, 3])\n",
    "    tf.summary.image('input', image_shaped_input, 10)\n",
    "#网络\n",
    "with tf.variable_scope('layer'):\n",
    "    with tf.variable_scope('weight'):\n",
    "        weight = tf.get_variable('weight', [784, 10], tf.random_normal_initializer())\n",
    "        tf.summary.histogram('weight', weight)\n",
    "    with tf.variable_scope('bias'):\n",
    "        bias = tf.get_variable('bias', [10], tf.constant_initializer())\n",
    "    with tf.name_scope('Wx_add_b'):\n",
    "        y_ = tf.add(tf.matmal(x, weight), bias)\n",
    "#cost\n",
    "with tf.name_scope('cross_entropy'):\n",
    "    diff = tf.nn.softmax_cross_entropywith_logits(labels=Y, logits=y_)\n",
    "    with tf.name_scope('total'):\n",
    "        cross_entropy = tf.reduce_mean(diff)\n",
    "        tf.summary.scalar('cross_entropy', cross_entropy)\n",
    "#优化器\n",
    "with tf.name_scope('train'):\n",
    "    train_op = tf.train.AdamOptimizer(0.001).minimize(cross_entropy)\n",
    "#评价指标\n",
    "with tf.name_scope('accuracy'):\n",
    "    with tf.name_scrope('predict'):\n",
    "        prediction = tf.equal(tf.argmax(y, 1), tf.argmax(y_, 1))\n",
    "    with tf.name_scope('accuracy'):\n",
    "        accuracy = tf.reduce_mean(tf.cast(prediction), tf.float32)\n",
    "        tf.summary.scalar('accuracy', accuracy)\n",
    "\n",
    "with tf.Session() as sess:\n",
    "    merged = tf.summary.merge_all()\n",
    "    writer = tf.Summary.FileWriter('./logs')\n",
    "    sess.run(tf.global_variables_initilizer())\n",
    "    for i in range(100):#max_step\n",
    "        if i % 5 == 0:#summary_step\n",
    "            summary, acc = sess.run([merged, accuracy], feed_dict={})\n",
    "            #写入汇总数据，传入全局步数\n",
    "            writer.add_summary(summary, i)"
   ]
  },
  {
   "cell_type": "markdown",
   "metadata": {},
   "source": [
    "#### tf.summary.scalar()\n",
    "- 获取带有一个标量值的汇总数据,比如loss，accuracy等\n",
    "- 参数\n",
    "    - name\n",
    "    - tensor\n",
    "    - collections = GraphKeys.SUMMARIES"
   ]
  },
  {
   "cell_type": "markdown",
   "metadata": {},
   "source": [
    "#### tf.summary.histogram\n",
    "- 数据统计信息\n",
    "- 参数和scalar一样"
   ]
  },
  {
   "cell_type": "markdown",
   "metadata": {},
   "source": [
    "#### tf.summary.image\n",
    "- 获取带有图片的汇总操作\n",
    "- 参数\n",
    "    - name\n",
    "    - tensor:必须是四阶张量\n",
    "    - max_outputs：渲染的数量\n",
    "    - collections"
   ]
  },
  {
   "cell_type": "markdown",
   "metadata": {},
   "source": [
    "#### tf.summary,audio\n",
    "- 音频\n",
    "- 参数\n",
    "    - name\n",
    "    - tensor\n",
    "    - sample_rate:采样率\n",
    "    - max_outputs\n",
    "    - collections\n",
    "- [magenta](magenta.tensorflow.org)"
   ]
  },
  {
   "cell_type": "markdown",
   "metadata": {},
   "source": [
    "[一个例子](https://blog.csdn.net/qq_31120801/article/details/75268765)\n",
    "- 其中tf.RunOption()定义TensorFlow运行选项，其中设置trace_level为FULL_TRACE，并使用tf.RunMetadata()定义TensorFlow运行的元信息，这样可以记录训练时运算时间和内存占用等方面的信息。"
   ]
  },
  {
   "cell_type": "markdown",
   "metadata": {},
   "source": [
    "### 图像嵌入表示"
   ]
  },
  {
   "cell_type": "code",
   "execution_count": null,
   "metadata": {
    "collapsed": true
   },
   "outputs": [],
   "source": []
  }
 ],
 "metadata": {
  "kernelspec": {
   "display_name": "Python 3",
   "language": "python",
   "name": "python3"
  },
  "language_info": {
   "codemirror_mode": {
    "name": "ipython",
    "version": 3
   },
   "file_extension": ".py",
   "mimetype": "text/x-python",
   "name": "python",
   "nbconvert_exporter": "python",
   "pygments_lexer": "ipython3",
   "version": "3.6.3"
  }
 },
 "nbformat": 4,
 "nbformat_minor": 2
}
