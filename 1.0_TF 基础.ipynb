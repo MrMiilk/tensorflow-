{
 "cells": [
  {
   "cell_type": "code",
   "execution_count": 1,
   "metadata": {
    "collapsed": true
   },
   "outputs": [],
   "source": [
    "import tensorflow as tf\n",
    "import numpy as np\n",
    "import matplotlib.pyplot as plt\n",
    "%matplotlib inline"
   ]
  },
  {
   "cell_type": "markdown",
   "metadata": {},
   "source": [
    "## 张量--数据载体"
   ]
  },
  {
   "cell_type": "code",
   "execution_count": 3,
   "metadata": {
    "collapsed": true
   },
   "outputs": [],
   "source": [
    "#一些常用的赋值和操作\n",
    "#最常用：float32\n",
    "tf.zeros([3, 4], tf.int32)\n",
    "\n",
    "tf.zeros_like(x)\n",
    "tf.ones([2, 3], tf.float32)\n",
    "tf.ones_like(x)\n",
    "\n",
    "#常数\n",
    "t = tf.constant([1, 2, 3, 4], tf.float32)\n",
    "tf.constant(-1, shape=[2, 3])#-1填充的[2, 3]矩阵\n",
    "\n",
    "t = tf.linspace(10., 12., 3, name='lsp') #[10, 11, 12], 3表示3个，包括12\n",
    "\n",
    "#tf.range(start, limit, delta)#同样没有最后一个"
   ]
  },
  {
   "cell_type": "code",
   "execution_count": 17,
   "metadata": {},
   "outputs": [
    {
     "name": "stdout",
     "output_type": "stream",
     "text": [
      "[[-1.63572717 -2.22727728 -0.78743017]\n",
      " [ 1.86381507 -2.45669842 -7.04239273]]\n",
      "[[ 1.  2.]\n",
      " [ 5.  6.]\n",
      " [ 3.  4.]]\n"
     ]
    }
   ],
   "source": [
    "norm = tf.random_normal([2, 3], mean=-1, stddev=4)\n",
    "\n",
    "c = tf.constant([\n",
    "    [1., 2],\n",
    "    [3, 4],\n",
    "    [5, 6]\n",
    "], tf.float32)\n",
    "#洗牌\n",
    "shuff = tf.random_shuffle(c)\n",
    "\n",
    "sess = tf.Session()\n",
    "print(sess.run(norm))\n",
    "print(sess.run(shuff))"
   ]
  },
  {
   "cell_type": "code",
   "execution_count": 2,
   "metadata": {},
   "outputs": [
    {
     "name": "stdout",
     "output_type": "stream",
     "text": [
      "[ 1.  2.  3.  4.]\n"
     ]
    }
   ],
   "source": [
    "a = tf.constant([1., 2, 3, 4], name='a', dtype=tf.float32)\n",
    "with tf.Session() as sess:\n",
    "#     print(a.set_shape([2, 2]))#会报错\n",
    "    print(a.eval())"
   ]
  },
  {
   "cell_type": "markdown",
   "metadata": {},
   "source": [
    "[静态维数与动态维数](https://blog.csdn.net/dcrmg/article/details/79766538)\n",
    "- 在图构建过程中定义的张量拥有的维度是静态维度，这个维度可以被定义为不确定的，例如定义一个tensor的维度是[None,10]，表示这个tensor的第一个维度是不确定的，可以是任意的，None 表示具体维度值要在图运行过程中确定。\n"
   ]
  },
  {
   "cell_type": "code",
   "execution_count": 3,
   "metadata": {},
   "outputs": [
    {
     "name": "stdout",
     "output_type": "stream",
     "text": [
      "consumer: <bound method Tensor.consumers of <tf.Tensor 'a:0' shape=(4,) dtype=float32>>\n",
      "op: name: \"Add\"\n",
      "op: \"Add\"\n",
      "input: \"a\"\n",
      "input: \"b\"\n",
      "attr {\n",
      "  key: \"T\"\n",
      "  value {\n",
      "    type: DT_FLOAT\n",
      "  }\n",
      "}\n",
      "\n"
     ]
    }
   ],
   "source": [
    "b = tf.constant([1., 2, 3, 4], name='b', dtype=tf.float32)\n",
    "c = tf.add(a, b)\n",
    "#a的后置操作\n",
    "print('consumer:', a.consumers)\n",
    "#c的前置操作\n",
    "print('op:', c.op)\n",
    "sess.close()"
   ]
  },
  {
   "cell_type": "code",
   "execution_count": 4,
   "metadata": {},
   "outputs": [
    {
     "name": "stdout",
     "output_type": "stream",
     "text": [
      "['a', 'b', 'Add']\n"
     ]
    }
   ],
   "source": [
    "#图对象的节点\n",
    "print([node.name for node in c.graph.as_graph_def().node])"
   ]
  },
  {
   "cell_type": "markdown",
   "metadata": {},
   "source": [
    "### 稀疏张量\n",
    "[文档](https://blog.csdn.net/coderpai/article/details/79006157)"
   ]
  },
  {
   "cell_type": "code",
   "execution_count": 5,
   "metadata": {},
   "outputs": [
    {
     "name": "stdout",
     "output_type": "stream",
     "text": [
      "SparseTensorValue(indices=array([[0, 2],\n",
      "       [1, 3]], dtype=int64), values=array([ 2.,  3.], dtype=float32), dense_shape=array([2, 3], dtype=int64))\n",
      "Tensor(\"SparseTensor/indices:0\", shape=(2, 2), dtype=int64)\n",
      "[[0 2]\n",
      " [1 3]]\n",
      "<tensorflow.python.framework.ops.Graph object at 0x00000272613F5518>\n",
      "['a', 'b', 'Add', 'b_1', 'Add_1', 'SparseTensor/indices', 'SparseTensor/values', 'SparseTensor/dense_shape']\n"
     ]
    }
   ],
   "source": [
    "sp = tf.SparseTensor(indices=[[0, 2], [1, 3]], values=np.array([2, 3], dtype=np.float32), dense_shape=[2, 3])\n",
    "\n",
    "with tf.Session() as sess:\n",
    "    print(sp.eval())\n",
    "    #索引\n",
    "    print(sp.indices)\n",
    "    print(sp.indices.eval())\n",
    "    #图\n",
    "    print(sp.graph)\n",
    "#     print(ind.eval())"
   ]
  },
  {
   "cell_type": "markdown",
   "metadata": {},
   "source": [
    "#### 稀疏到密集转化"
   ]
  },
  {
   "cell_type": "code",
   "execution_count": null,
   "metadata": {
    "collapsed": true
   },
   "outputs": [],
   "source": [
    "de = tf.sparse_to_dense(sparse_indices = [[1,2],[2,1]], output_shape = [3,3], \n",
    "    sparse_values = [2,3], default_value = 1)"
   ]
  },
  {
   "cell_type": "markdown",
   "metadata": {
    "collapsed": true
   },
   "source": [
    "![](imgs/1.png)"
   ]
  },
  {
   "cell_type": "code",
   "execution_count": null,
   "metadata": {
    "collapsed": true
   },
   "outputs": [],
   "source": [
    "de = tf.sparse_tensor_to_dense(sp, default_value=1)"
   ]
  },
  {
   "cell_type": "markdown",
   "metadata": {},
   "source": [
    "![](imgs/2.png)"
   ]
  },
  {
   "cell_type": "markdown",
   "metadata": {},
   "source": [
    "#### 转化为密集布尔张量\n",
    "![](imgs/3.png)\n",
    "![](imgs/4.png)"
   ]
  },
  {
   "cell_type": "code",
   "execution_count": null,
   "metadata": {
    "collapsed": true
   },
   "outputs": [],
   "source": [
    "b = tf.sparse_to_indicator(sp, 10)"
   ]
  },
  {
   "cell_type": "code",
   "execution_count": null,
   "metadata": {
    "collapsed": true
   },
   "outputs": [],
   "source": []
  },
  {
   "cell_type": "markdown",
   "metadata": {},
   "source": [
    "关于稀疏张量的更多操作参照书和文档"
   ]
  },
  {
   "cell_type": "markdown",
   "metadata": {},
   "source": [
    "## 操作--模型载体"
   ]
  },
  {
   "cell_type": "markdown",
   "metadata": {
    "collapsed": true
   },
   "source": [
    "- 计算节点\n",
    "    - operation类(P47):\n",
    "    - 计算节点的属性\n",
    "    - 数据基础操作\n",
    "    - 流图中的变量\n",
    "    - add的调用过程：\n",
    "        - 初始化时global_variavle_initializer()执行的过程\n",
    "        - 变量操作\n",
    "        - read将张量转化为标量的调用栈\n",
    "- 存储节点\n",
    "    - Variable类\n",
    "    - 变量初始值\n",
    "    - 更新操作\n",
    "    - 读取操作\n",
    "        - read对应了tensorboard的identity（内部调用）\n",
    "    - 变量操作：有状态操作，用于存储变量值，需要给定shape和size\n",
    "        - 初始化方法：利用初始值or模型恢复，均为Variable类的私有方法\n",
    "    \n",
    "- 数据节点 placeholder\n",
    "- 用例笔记：\n",
    "```python\n",
    "#没有显示指定数据形状，可以使用set_shape()改变静态维数\n",
    "x = tf.sparse_placeholder(tf.float32)\n",
    "```"
   ]
  },
  {
   "cell_type": "code",
   "execution_count": 2,
   "metadata": {},
   "outputs": [
    {
     "name": "stdout",
     "output_type": "stream",
     "text": [
      "w: <tf.Variable 'Variable:0' shape=(1, 2) dtype=float32_ref>\n",
      "x: <tf.Variable 'Variable_1:0' shape=(2, 1) dtype=float32_ref>\n",
      "y: Tensor(\"MatMul:0\", shape=(1, 1), dtype=float32)\n"
     ]
    }
   ],
   "source": [
    "#Create a variable\n",
    "w = tf.Variable([\n",
    "    [0.5, 1.]\n",
    "])\n",
    "x = tf.Variable([\n",
    "    [2.],\n",
    "    [1.],\n",
    "])\n",
    "t = tf.linspace(10., 12., 4, name='lsp')\n",
    "#操作\n",
    "y = tf.matmul(w, x)\n",
    "print('w:', w)\n",
    "print('x:', x)\n",
    "#框架搭建完成，但是没有具体的值--并没有计算\n",
    "print('y:', y)"
   ]
  },
  {
   "cell_type": "markdown",
   "metadata": {},
   "source": [
    "### Session,会话\n",
    "- 会话，提供求解的环境，发放计算任务的客户端\n",
    "- Tensor.eval()和Operation.run()的调用栈，都是Session.run()\n"
   ]
  },
  {
   "cell_type": "markdown",
   "metadata": {},
   "source": [
    "#### 以下方式也可以得到张量的值\n",
    "- Tensor.eval(self, feed_dict, session)\n",
    "- Operation.run(self, feed_dict, session)这两个方法需要传入session，但如果使用：\n",
    "```python\n",
    "    with tf.Session() as sess:\n",
    "        print(a.eval())\n",
    "        pass\n",
    "```\n",
    "        则不需要，这种方法会自己将sess注册为默认sess\n"
   ]
  },
  {
   "cell_type": "code",
   "execution_count": 13,
   "metadata": {},
   "outputs": [
    {
     "name": "stdout",
     "output_type": "stream",
     "text": [
      "Tensor(\"lsp_2:0\", shape=(4,), dtype=float32) [ 10.          10.66666698  11.33333302  12.        ]\n"
     ]
    }
   ],
   "source": [
    "#对变量初始化\n",
    "init_op = tf.global_variables_initializer()\n",
    "with tf.Session() as sess:\n",
    "    sess.run(init_op)\n",
    "    print(t, t.eval())"
   ]
  },
  {
   "cell_type": "markdown",
   "metadata": {},
   "source": [
    "#### 交互会话 "
   ]
  },
  {
   "cell_type": "code",
   "execution_count": 2,
   "metadata": {
    "collapsed": true
   },
   "outputs": [],
   "source": [
    "a = tf.constant(5.)\n",
    "b = tf.constant(2.)\n",
    "sess = tf.InteractiveSession()"
   ]
  },
  {
   "cell_type": "code",
   "execution_count": 4,
   "metadata": {},
   "outputs": [
    {
     "name": "stdout",
     "output_type": "stream",
     "text": [
      "5.0\n",
      "7.0\n"
     ]
    }
   ],
   "source": [
    "print(a.eval())\n",
    "c = a + b\n",
    "print(c.eval())#类似shell编程的会话"
   ]
  },
  {
   "cell_type": "markdown",
   "metadata": {},
   "source": [
    "## 优化器\n",
    "- 常见优化器（P65）\n",
    "- 优化器的组成：\n",
    "    - 父类：Optimter类，包含了：\n",
    "        - compute_gradients()：计算梯度\n",
    "        - apply_gradients()：应用梯度\n",
    "        - minimize()\n",
    "    - 各个优化器各自实现：利用稠密，稀疏梯度值更新模型参数的具体实现\n",
    "        - _apply_dense()\n",
    "        - _apply_sparse()"
   ]
  },
  {
   "cell_type": "markdown",
   "metadata": {},
   "source": [
    "#### minimize()的实现(P66)：\n",
    "#### 重要：自己定义一些优化过程\n",
    "```python\n",
    "def minimize(self,):\n",
    "    #计算梯度， 得到梯度值与模型参数列表 <梯度，参数>\n",
    "    grads_and_vars = self.compute_gradients()\n",
    "    #筛选：非零梯度值对应的模型参数列表\n",
    "    vars_with_grad = [v for v, g in grads_and_vars if g is not None]\n",
    "    #如果没有非零梯度值，则出错\n",
    "    if not vars_with_grad:\n",
    "        raise ValueError()\n",
    "    #更新，返回模型参数值\n",
    "    return self.apply_gradients()\n",
    "```\n",
    "    以上为minimize的大致结构\n",
    "    minimize的参数(P67)，主要参数：gate_gradients,计算和运用梯度的顺序问题，关乎效率问题"
   ]
  },
  {
   "cell_type": "markdown",
   "metadata": {},
   "source": [
    "#### 模板代码\n",
    "```python\n",
    "import tensorflow as tf\n",
    "\n",
    "#模型\n",
    "X = tf.placeholder(...)\n",
    "Y_ = tf.placeholder(...)\n",
    "w = tf.get_variable(...)\n",
    "b = tf.get_variable(...)\n",
    "#损失\n",
    "loss = tf.reduce_mean(tf.nn.softmax_cross_entropy_with_logits(...))\n",
    "#优化方式\n",
    "optimizer = tf.train.GradientDescentOptimizer(learning_rate=0.001)\n",
    "global_step  = tf.Variable(0, name='global_step', trainable=False)#注意这里trainable=False\n",
    "train_op = optimizer.minimize(loss, global_step=global_step)\n",
    "\n",
    "with tf.Session() as sess:\n",
    "    sess.run(tf.global_variables_initializer())\n",
    "    for step in range(max_train_steps):\n",
    "        sess.run(train_op, feed_dict={...})\n",
    "        #日志\n",
    "        if step%log_step == 0:\n",
    "            l, weigth, bias = sess.run([loss, w, b])\n",
    "            print(...)\n",
    "```"
   ]
  },
  {
   "cell_type": "markdown",
   "metadata": {},
   "source": [
    "#### 其实通过minimize的实现方式我们可以自己定义优化过程\n",
    "- 计算梯度\n",
    "- 处理梯度\n",
    "- 应用梯度"
   ]
  },
  {
   "cell_type": "markdown",
   "metadata": {},
   "source": [
    "##### 计算梯度 compute_gradients() 的实现，具体参考P69\n",
    "```python\n",
    "def compute_gradients(...):\n",
    "    #数据处理与判断\n",
    "    ...#(包括获取var_list)\n",
    "    #创建计算梯度的操作\n",
    "    grads= gradients.gradients(...)\n",
    "    #这种策略下，为所有计算梯度添加控制依赖边，保证任意梯度在使用前所有梯度都计算完毕\n",
    "    if gate_gradients == Optimizer.GATE_GRAPH:\n",
    "        grads = control_flow_ops.tuple(grads)\n",
    "    #梯度模型参数表\n",
    "    grads_and_vars = list(zip(grads, var_list))\n",
    "    self._assert_valid_dtype([v for g, v in grads_and_vars if g is not None])\n",
    "    return grads_and_vars\n",
    "```"
   ]
  },
  {
   "cell_type": "markdown",
   "metadata": {},
   "source": [
    "##### 梯度处理：\n",
    "- tf内置的一些梯度处理方法(P70)\n",
    "- 各种优化器的主要区别是在apply_gradients()中，我们的处理在这个之前\n",
    "- 例子\n",
    "```python\n",
    "...#创建模型\n",
    "optimizer = tf.train.AdamOptimizer(learning_rate=0.01, beta1=0.5)\n",
    "grads_and_vars = optimizer.compute_gradients(loss, ...)\n",
    "for i, (g, v)  in enumerate(grads_and_vars):\n",
    "    if g is not None:\n",
    "        #剪裁\n",
    "        grads_and_vars[i] = (tf.clip_by_norm(g, 5), v)\n",
    "train_op = optimzer.apply_gradients(grads_and_vars)\n",
    "...\n",
    "```\n",
    "    \n",
    "    这里将minimize的计算分开，可以自己优化函数，添加需要的处理，注意要参照好minimize的实现，minimize中的一些其他参数设定"
   ]
  },
  {
   "cell_type": "markdown",
   "metadata": {},
   "source": [
    "##### 应用梯度\n",
    "```python\n",
    "def apply_gradients(self, ...):\n",
    "    grads_and_vars = tuple(grads_and_vars)\n",
    "    #省略错误检查\n",
    "    converted_grads_and_vars = []\n",
    "    for g, v in grads_and_vars:\n",
    "        \n",
    "        #省略错误检查\n",
    "        p = _get_processor(v)#注意这里的p,获取更新的‘程序’\n",
    "        converted_grads_and_vars.append((g, v, p))\n",
    "        #转化到元祖类型，支持列表推演计算\n",
    "    converted_grads_and_vars = tuple(converted_grads_and_vars)\n",
    "    var_list = [v for g, v in grads_and_vars if g is not None]\n",
    "    #省略var_list非空判断\n",
    "    with ops.control_dependencies(None):\n",
    "        self._create_slots(var_list)\n",
    "    \n",
    "    update_ops = []#更新操作汇总表\n",
    "    self._prepare()\n",
    "    for grad, var, processor in converted_grads_and_vars:\n",
    "        if grad is None:\n",
    "            continue\n",
    "        #更新操作，使用之前的p，传入self，在更新时会使用各个optimizer的 apply_...() 方法\n",
    "        update_ops.append(processor.update_ops(self, grad))\n",
    "    #if global_step is None 如果有定义全局的迭代记录，这里有别的操作\n",
    "    apply_updates = self._finish(update_ops, name)#控制依赖，确保updates_op操作执行完成\n",
    "    \n",
    "    #省略对train_op的操作\n",
    "\n",
    "    return apply_updates\n",
    "```"
   ]
  },
  {
   "cell_type": "markdown",
   "metadata": {},
   "source": [
    "#### 上面这部分是对修改优化过程的总结，下面为线性回归实例"
   ]
  },
  {
   "cell_type": "code",
   "execution_count": 4,
   "metadata": {
    "scrolled": false
   },
   "outputs": [
    {
     "name": "stdout",
     "output_type": "stream",
     "text": [
      "Start training:\n",
      "Step:0, loss==11.4295, W==-0.3626, b==0.0822\n",
      "Step:50, loss==0.0978, W==0.3336, b==0.2175\n",
      "Step:100, loss==0.0955, W==0.3288, b==0.2518\n",
      "Step:150, loss==0.0933, W==0.3242, b==0.2840\n",
      "Step:200, loss==0.0915, W==0.3200, b==0.3144\n",
      "Step:250, loss==0.0898, W==0.3159, b==0.3429\n",
      "Step:300, loss==0.0883, W==0.3122, b==0.3698\n",
      "Step:350, loss==0.0870, W==0.3086, b==0.3950\n",
      "Step:400, loss==0.0859, W==0.3052, b==0.4188\n",
      "Step:450, loss==0.0848, W==0.3021, b==0.4412\n",
      "Step:500, loss==0.0839, W==0.2991, b==0.4623\n",
      "Step:550, loss==0.0831, W==0.2963, b==0.4821\n",
      "Step:600, loss==0.0824, W==0.2937, b==0.5008\n",
      "Step:650, loss==0.0818, W==0.2912, b==0.5183\n",
      "Step:700, loss==0.0812, W==0.2889, b==0.5349\n",
      "Step:750, loss==0.0807, W==0.2867, b==0.5504\n",
      "Step:800, loss==0.0803, W==0.2846, b==0.5650\n",
      "Step:850, loss==0.0799, W==0.2827, b==0.5788\n",
      "Step:900, loss==0.0796, W==0.2808, b==0.5918\n",
      "Step:950, loss==0.0793, W==0.2791, b==0.6040\n",
      "Step:1000, loss==0.0790, W==0.2775, b==0.6152\n",
      "Linear Regression Model: Y==0.2775*X+0.6152\n"
     ]
    },
    {
     "data": {
      "image/png": "[encoded data removed]",
      "text/plain": [
       "<matplotlib.figure.Figure at 0x1e0da184940>"
      ]
     },
     "metadata": {},
     "output_type": "display_data"
    }
   ],
   "source": [
    "# -*- coding=utf-8 -*-\n",
    "import tensorflow as tf\n",
    "import matplotlib.pyplot as plt\n",
    "import numpy as np\n",
    "\n",
    "# 打印日志的步长\n",
    "log_step = 50\n",
    "# ================ 1.定义超参数 ================\n",
    "# 学习率\n",
    "learning_rate = 0.01\n",
    "# 最大训练步数\n",
    "max_train_steps = 1000\n",
    "# ================ 2.输入数据 ================\n",
    "# 构造训练数据\n",
    "train_X = np.array([[3.3],[4.4],[5.5],[6.71],[6.93],[4.168],[9.779],[6.182],[7.59],[2.167],[7.042],[10.791],[5.313],[7.997],[5.654],[9.27],[3.1]], dtype=np.float32)\n",
    "train_Y = np.array([[1.7],[2.76],[2.09],[3.19],[1.694],[1.573],[3.366],[2.596],[2.53],[1.221],[2.827],[3.465],[1.65],[2.904],[2.42],[2.94],[1.3]], dtype=np.float32)\n",
    "total_samples = train_X.shape[0]\n",
    "# ================ 3.构建模型 ================\n",
    "# 输入数据\n",
    "X = tf.placeholder(tf.float32, [None, 1])\n",
    "# 模型参数\n",
    "W = tf.Variable(tf.random_normal([1, 1]), name=\"weight\")\n",
    "b = tf.Variable(tf.zeros([1]), name=\"bias\")\n",
    "# 推理值\n",
    "Y = tf.matmul(X, W) + b\n",
    "# ================ 4.定义损失函数 ================\n",
    "# 实际值\n",
    "Y_ = tf.placeholder(tf.float32, [None, 1])\n",
    "# 均方差\n",
    "loss = tf.reduce_sum(tf.pow(Y-Y_, 2))/(2*total_samples)\n",
    "# ================ 5.创建优化器 ================\n",
    "# 随机梯度下降优化器\n",
    "optimizer = tf.train.GradientDescentOptimizer(learning_rate)\n",
    "# ================ 6.定义单步训练操作 ================\n",
    "# 最小化损失值\n",
    "train_op = optimizer.minimize(loss)\n",
    "# ================ 7.创建会话 ================\n",
    "with tf.Session() as sess:\n",
    "    # 初始化全局变量\n",
    "    sess.run(tf.global_variables_initializer()) \n",
    "# ================ 8.迭代训练 ================\n",
    "    print(\"Start training:\")\n",
    "    for step in range(max_train_steps):\n",
    "        sess.run(train_op, feed_dict={X: train_X, Y_: train_Y})\n",
    "        # 每隔log_step步打印一次日志\n",
    "        if step % log_step == 0:\n",
    "            c = sess.run(loss, feed_dict={X: train_X, Y_:train_Y})\n",
    "            print(\"Step:%d, loss==%.4f, W==%.4f, b==%.4f\" % \n",
    "                    (step, c, sess.run(W), sess.run(b)))\n",
    "    # 计算训练完毕的模型在训练集上的损失值，作为指标输出\n",
    "    final_loss = sess.run(loss, feed_dict={X: train_X, Y_: train_Y})\n",
    "    # 计算训练完毕的模型参数W和b\n",
    "    weight, bias = sess.run([W, b])\n",
    "    print(\"Step:%d, loss==%.4f, W==%.4f, b==%.4f\" % \n",
    "            (max_train_steps, final_loss, sess.run(W), sess.run(b)))\n",
    "    print(\"Linear Regression Model: Y==%.4f*X+%.4f\" % (weight, bias))\n",
    "# ================ 模型可视化 ================\n",
    "    # 初始化Matplotlib后端\n",
    "    %matplotlib inline\n",
    "    # 根据训练数据X和Y，添加对应的红色圆点\n",
    "    plt.plot(train_X, train_Y, 'ro', label='Training data')\n",
    "    # 根据模型参数和训练数据，添加蓝色（缺省色）拟合直线\n",
    "    plt.plot(train_X, weight * train_X + bias, label='Fitted line')\n",
    "    # 添加图例说明\n",
    "    plt.legend()\n",
    "    # 画出上面定义的图案\n",
    "    plt.show()"
   ]
  },
  {
   "cell_type": "markdown",
   "metadata": {},
   "source": [
    "下面的线性回归为唐雨迪给出"
   ]
  },
  {
   "cell_type": "markdown",
   "metadata": {},
   "source": [
    "#### 线性回归2"
   ]
  },
  {
   "cell_type": "code",
   "execution_count": 4,
   "metadata": {
    "collapsed": true
   },
   "outputs": [],
   "source": [
    "import matplotlib.pyplot as plt"
   ]
  },
  {
   "cell_type": "code",
   "execution_count": 13,
   "metadata": {},
   "outputs": [
    {
     "data": {
      "image/png": "[encoded data removed]",
      "text/plain": [
       "<matplotlib.figure.Figure at 0x1c142b91cf8>"
      ]
     },
     "metadata": {},
     "output_type": "display_data"
    }
   ],
   "source": [
    "num_points = 1000\n",
    "vectors_set = []\n",
    "np.random.seed(1)\n",
    "x_data = np.random.randn(1, num_points)\n",
    "y_data = x_data*0.1 + 0.3 + np.random.randn(1, num_points)*0.03\n",
    "# for i in range(num_points):\n",
    "#     x1 = np.random.normal(0.0, 0.55)\n",
    "#     y1 = x1*0.1 + 0.3 + np.random.normal(0., 0.03)\n",
    "#     vectors_set.append([x1, y1])\n",
    "# x_data = [v[0] for v in vectors_set]\n",
    "# y_data = [v[1] for v in vectors_set]\n",
    "\n",
    "plt.scatter(x_data, y_data, c='r')\n",
    "plt.show()"
   ]
  },
  {
   "cell_type": "code",
   "execution_count": 21,
   "metadata": {},
   "outputs": [
    {
     "name": "stdout",
     "output_type": "stream",
     "text": [
      "W0: [ 0.26849747]\n",
      "b0: [ 0.]\n",
      "loss: 0.114655\n",
      "Loss: 0.031753\n",
      "Loss: 0.00933643\n",
      "Loss: 0.00324538\n",
      "Loss: 0.00158298\n",
      "Loss: 0.00112746\n",
      "Loss: 0.0010022\n",
      "Loss: 0.000967651\n",
      "Loss: 0.000958094\n",
      "Loss: 0.000955444\n",
      "Loss: 0.000954707\n",
      "Loss: 0.000954502\n",
      "Loss: 0.000954445\n",
      "Loss: 0.000954429\n",
      "Loss: 0.000954425\n",
      "Loss: 0.000954424\n",
      "Loss: 0.000954423\n",
      "Loss: 0.000954423\n",
      "Loss: 0.000954423\n",
      "Loss: 0.000954423\n",
      "Loss: 0.000954423\n",
      "WL: [ 0.10068922]\n",
      "bL: [ 0.30079246]\n"
     ]
    }
   ],
   "source": [
    "NUM_ITER = 20\n",
    "\n",
    "W = tf.Variable(tf.random_uniform([1], -1., 1.), name='W')\n",
    "b = tf.Variable(tf.zeros([1]), name='b')\n",
    "\n",
    "y = W*x_data + b\n",
    "#损失函数和优化方法，\n",
    "loss = tf.reduce_mean(tf.square(y - y_data), name='loss')\n",
    "optimizer = tf.train.GradientDescentOptimizer(0.25)#学习率\n",
    "\n",
    "train = optimizer.minimize(loss, name='train')\n",
    "\n",
    "initer = tf.global_variables_initializer()\n",
    "with tf.Session() as sess:\n",
    "    #初始化\n",
    "    sess.run(initer)\n",
    "    print('W0:', sess.run(W))\n",
    "    print('b0:', sess.run(b))\n",
    "    print('loss:', sess.run(loss))\n",
    "    #优化\n",
    "    for step in range(NUM_ITER):\n",
    "        sess.run(train)\n",
    "        print('Loss:', sess.run(loss))\n",
    "    #结果\n",
    "    print('WL:', sess.run(W))\n",
    "    print('bL:', sess.run(b))\n"
   ]
  },
  {
   "cell_type": "markdown",
   "metadata": {},
   "source": [
    "#### 保存"
   ]
  },
  {
   "cell_type": "code",
   "execution_count": 23,
   "metadata": {},
   "outputs": [
    {
     "name": "stdout",
     "output_type": "stream",
     "text": [
      "Saved path: .//test_1\n"
     ]
    }
   ],
   "source": [
    "w = tf.Variable([\n",
    "    [0.5, 1.]\n",
    "])\n",
    "x = tf.Variable([\n",
    "    [2.],\n",
    "    [1.],\n",
    "])\n",
    "t = tf.linspace(10., 12., 4, name='lsp')\n",
    "#操作\n",
    "y = tf.matmul(w, x)\n",
    "init_op = tf.global_variables_initializer()\n",
    "saver = tf.train.Saver()\n",
    "with tf.Session() as sess:\n",
    "    sess.run(init_op)\n",
    "    \n",
    "    save_path = saver.save(sess, './/test_1')\n",
    "    print('Saved path:', save_path)"
   ]
  },
  {
   "cell_type": "markdown",
   "metadata": {},
   "source": [
    "### mnist数据集"
   ]
  },
  {
   "cell_type": "code",
   "execution_count": 3,
   "metadata": {
    "collapsed": true
   },
   "outputs": [],
   "source": [
    "import numpy as np\n",
    "import matplotlib.pyplot as plt\n",
    "import tensorflow as tf\n",
    "import tensorflow.examples.tutorials.mnist.input_data as input_data"
   ]
  },
  {
   "cell_type": "code",
   "execution_count": 23,
   "metadata": {
    "collapsed": true
   },
   "outputs": [
    {
     "name": "stdout",
     "output_type": "stream",
     "text": [
      "Download dataset\n",
      "WARNING:tensorflow:From <ipython-input-23-a31a90ae4518>:2: read_data_sets (from tensorflow.contrib.learn.python.learn.datasets.mnist) is deprecated and will be removed in a future version.\n",
      "Instructions for updating:\n",
      "Please use alternatives such as official/mnist/dataset.py from tensorflow/models.\n",
      "WARNING:tensorflow:From c:\\users\\sx352\\appdata\\local\\programs\\python\\python36\\lib\\site-packages\\tensorflow\\contrib\\learn\\python\\learn\\datasets\\mnist.py:260: maybe_download (from tensorflow.contrib.learn.python.learn.datasets.base) is deprecated and will be removed in a future version.\n",
      "Instructions for updating:\n",
      "Please write your own downloading logic.\n",
      "WARNING:tensorflow:From c:\\users\\sx352\\appdata\\local\\programs\\python\\python36\\lib\\site-packages\\tensorflow\\contrib\\learn\\python\\learn\\datasets\\base.py:219: retry.<locals>.wrap.<locals>.wrapped_fn (from tensorflow.contrib.learn.python.learn.datasets.base) is deprecated and will be removed in a future version.\n",
      "Instructions for updating:\n",
      "Please use urllib or similar directly.\n",
      "Successfully downloaded train-images-idx3-ubyte.gz 9912422 bytes.\n",
      "WARNING:tensorflow:From c:\\users\\sx352\\appdata\\local\\programs\\python\\python36\\lib\\site-packages\\tensorflow\\contrib\\learn\\python\\learn\\datasets\\mnist.py:262: extract_images (from tensorflow.contrib.learn.python.learn.datasets.mnist) is deprecated and will be removed in a future version.\n",
      "Instructions for updating:\n",
      "Please use tf.data to implement this functionality.\n",
      "Extracting data/train-images-idx3-ubyte.gz\n",
      "Successfully downloaded train-labels-idx1-ubyte.gz 28881 bytes.\n",
      "WARNING:tensorflow:From c:\\users\\sx352\\appdata\\local\\programs\\python\\python36\\lib\\site-packages\\tensorflow\\contrib\\learn\\python\\learn\\datasets\\mnist.py:267: extract_labels (from tensorflow.contrib.learn.python.learn.datasets.mnist) is deprecated and will be removed in a future version.\n",
      "Instructions for updating:\n",
      "Please use tf.data to implement this functionality.\n",
      "Extracting data/train-labels-idx1-ubyte.gz\n",
      "WARNING:tensorflow:From c:\\users\\sx352\\appdata\\local\\programs\\python\\python36\\lib\\site-packages\\tensorflow\\contrib\\learn\\python\\learn\\datasets\\mnist.py:110: dense_to_one_hot (from tensorflow.contrib.learn.python.learn.datasets.mnist) is deprecated and will be removed in a future version.\n",
      "Instructions for updating:\n",
      "Please use tf.one_hot on tensors.\n",
      "Successfully downloaded t10k-images-idx3-ubyte.gz 1648877 bytes.\n",
      "Extracting data/t10k-images-idx3-ubyte.gz\n",
      "Successfully downloaded t10k-labels-idx1-ubyte.gz 4542 bytes.\n",
      "Extracting data/t10k-labels-idx1-ubyte.gz\n",
      "WARNING:tensorflow:From c:\\users\\sx352\\appdata\\local\\programs\\python\\python36\\lib\\site-packages\\tensorflow\\contrib\\learn\\python\\learn\\datasets\\mnist.py:290: DataSet.__init__ (from tensorflow.contrib.learn.python.learn.datasets.mnist) is deprecated and will be removed in a future version.\n",
      "Instructions for updating:\n",
      "Please use alternatives such as official/mnist/dataset.py from tensorflow/models.\n"
     ]
    }
   ],
   "source": [
    "print('Download dataset')\n",
    "mnist = input_data.read_data_sets('data/', one_hot=True)"
   ]
  },
  {
   "cell_type": "code",
   "execution_count": 24,
   "metadata": {},
   "outputs": [
    {
     "name": "stdout",
     "output_type": "stream",
     "text": [
      "type of mnist: <class 'tensorflow.contrib.learn.python.learn.datasets.base.Datasets'>\n",
      "Size of train data: 55000\n",
      "Size of test data: 10000\n"
     ]
    }
   ],
   "source": [
    "print('type of mnist:', type(mnist))\n",
    "print('Size of train data:', mnist.train.num_examples)\n",
    "print('Size of test data:', mnist.test.num_examples)"
   ]
  },
  {
   "cell_type": "code",
   "execution_count": 25,
   "metadata": {
    "collapsed": true
   },
   "outputs": [],
   "source": [
    "trainimg = mnist.train.images\n",
    "trainlabel = mnist.train.labels\n",
    "testimg = mnist.test.images\n",
    "testlabel = mnist.test.labels"
   ]
  },
  {
   "cell_type": "markdown",
   "metadata": {},
   "source": [
    "### 逻辑回归器"
   ]
  },
  {
   "cell_type": "code",
   "execution_count": 32,
   "metadata": {},
   "outputs": [
    {
     "name": "stdout",
     "output_type": "stream",
     "text": [
      "[[ 0.71608009 -0.00266728 -0.57348279  1.23325354]\n",
      " [-2.57076883  1.80841393 -0.33048872  0.21376287]\n",
      " [ 1.2742082   0.24959993 -0.35908264  2.4381442 ]]\n"
     ]
    }
   ],
   "source": [
    "temp = np.random.randn(3, 4)\n",
    "print(temp)"
   ]
  },
  {
   "cell_type": "code",
   "execution_count": 39,
   "metadata": {},
   "outputs": [
    {
     "name": "stdout",
     "output_type": "stream",
     "text": [
      "rank: 2\n",
      "shape: [3 4]\n",
      "argmax: [2 1 1 2]\n"
     ]
    }
   ],
   "source": [
    "sess = tf.InteractiveSession()\n",
    "print('rank:', tf.rank(temp).eval())\n",
    "print('shape:', tf.shape(temp).eval())\n",
    "print('argmax:', tf.argmax(temp, axis=0).eval())#最大值索引，axis=0-->最后一维\n"
   ]
  },
  {
   "cell_type": "code",
   "execution_count": 57,
   "metadata": {
    "collapsed": true
   },
   "outputs": [],
   "source": [
    "LEARNING_RATE = 0.08\n",
    "TRAINING_EPOCHS = 500\n",
    "BATCH_SIZE = 100\n",
    "DISPLAY_STEP = 5"
   ]
  },
  {
   "cell_type": "code",
   "execution_count": 53,
   "metadata": {
    "collapsed": true
   },
   "outputs": [],
   "source": [
    "x = tf.placeholder('float', [None, 784])#第一维度无穷，第二维度732\n",
    "y = tf.placeholder('float', [None, 10])\n",
    "W = tf.Variable(tf.random_normal([784, 10]), name='W')\n",
    "b = tf.Variable(tf.zeros([10]), name='b')\n",
    "\n",
    "actv = tf.nn.softmax(tf.matmul(x, W) + b)\n",
    "cost = tf.reduce_mean(-tf.reduce_sum(y*tf.log(actv), reduction_indices=1))\n",
    "optimizer = tf.train.GradientDescentOptimizer(LEARNING_RATE)\n",
    "train = optimizer.minimize(cost, name='train')"
   ]
  },
  {
   "cell_type": "code",
   "execution_count": 54,
   "metadata": {
    "collapsed": true
   },
   "outputs": [],
   "source": [
    "#预测\n",
    "pred = tf.equal(tf.argmax(actv, 1), tf.argmax(y, 1))\n",
    "#评估标准\n",
    "accr = tf.reduce_mean(tf.cast(pred, 'float'))#cast:将bool转换为float类型"
   ]
  },
  {
   "cell_type": "code",
   "execution_count": null,
   "metadata": {
    "collapsed": true,
    "scrolled": true
   },
   "outputs": [],
   "source": [
    "init = tf.global_variables_initializer()\n",
    "\n",
    "num_batchs = int(mnist.train.num_examples/BATCH_SIZE)\n",
    "with tf.Session() as sess:\n",
    "    sess.run(init)\n",
    "    for epoch in range(TRAINING_EPOCHS):\n",
    "        aver_cost = 0\n",
    "        for i in range(num_batchs):\n",
    "            batch_xs, batch_ys = mnist.train.next_batch(BATCH_SIZE)\n",
    "            foods = {x:batch_xs, y:batch_ys}\n",
    "            sess.run(train, feed_dict=foods)\n",
    "            aver_cost += sess.run(cost, feed_dict=foods)\n",
    "        if epoch%DISPLAY_STEP == 0:\n",
    "            foods_test = {x:mnist.test.images, y:mnist.test.labels}\n",
    "            test_acc = sess.run(accr, feed_dict=foods_test)\n",
    "            print('Epoch:{} \\t accuracy:{}'.format(epoch+1, test_acc))\n",
    "    print('Done')"
   ]
  },
  {
   "cell_type": "code",
   "execution_count": null,
   "metadata": {
    "collapsed": true
   },
   "outputs": [],
   "source": []
  }
 ],
 "metadata": {
  "kernelspec": {
   "display_name": "Python 3",
   "language": "python",
   "name": "python3"
  },
  "language_info": {
   "codemirror_mode": {
    "name": "ipython",
    "version": 3
   },
   "file_extension": ".py",
   "mimetype": "text/x-python",
   "name": "python",
   "nbconvert_exporter": "python",
   "pygments_lexer": "ipython3",
   "version": "3.6.3"
  }
 },
 "nbformat": 4,
 "nbformat_minor": 2
}
