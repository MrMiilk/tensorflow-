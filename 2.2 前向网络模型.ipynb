{
 "cells": [
  {
   "cell_type": "code",
   "execution_count": 1,
   "metadata": {},
   "outputs": [
    {
     "name": "stdout",
     "output_type": "stream",
     "text": [
      "WARNING:tensorflow:From c:\\users\\sx352\\appdata\\local\\programs\\python\\python36\\lib\\site-packages\\tensorflow\\contrib\\learn\\python\\learn\\datasets\\base.py:198: retry (from tensorflow.contrib.learn.python.learn.datasets.base) is deprecated and will be removed in a future version.\n",
      "Instructions for updating:\n",
      "Use the retry module or similar alternatives.\n"
     ]
    }
   ],
   "source": [
    "import numpy as np\n",
    "import matplotlib.pyplot as plt\n",
    "import tensorflow as tf\n",
    "import tensorflow.examples.tutorials.mnist.input_data as input_data"
   ]
  },
  {
   "cell_type": "code",
   "execution_count": 2,
   "metadata": {},
   "outputs": [
    {
     "name": "stdout",
     "output_type": "stream",
     "text": [
      "WARNING:tensorflow:From <ipython-input-2-410b479fd05e>:1: read_data_sets (from tensorflow.contrib.learn.python.learn.datasets.mnist) is deprecated and will be removed in a future version.\n",
      "Instructions for updating:\n",
      "Please use alternatives such as official/mnist/dataset.py from tensorflow/models.\n",
      "WARNING:tensorflow:From c:\\users\\sx352\\appdata\\local\\programs\\python\\python36\\lib\\site-packages\\tensorflow\\contrib\\learn\\python\\learn\\datasets\\mnist.py:260: maybe_download (from tensorflow.contrib.learn.python.learn.datasets.base) is deprecated and will be removed in a future version.\n",
      "Instructions for updating:\n",
      "Please write your own downloading logic.\n",
      "WARNING:tensorflow:From c:\\users\\sx352\\appdata\\local\\programs\\python\\python36\\lib\\site-packages\\tensorflow\\contrib\\learn\\python\\learn\\datasets\\mnist.py:262: extract_images (from tensorflow.contrib.learn.python.learn.datasets.mnist) is deprecated and will be removed in a future version.\n",
      "Instructions for updating:\n",
      "Please use tf.data to implement this functionality.\n",
      "Extracting data/train-images-idx3-ubyte.gz\n",
      "WARNING:tensorflow:From c:\\users\\sx352\\appdata\\local\\programs\\python\\python36\\lib\\site-packages\\tensorflow\\contrib\\learn\\python\\learn\\datasets\\mnist.py:267: extract_labels (from tensorflow.contrib.learn.python.learn.datasets.mnist) is deprecated and will be removed in a future version.\n",
      "Instructions for updating:\n",
      "Please use tf.data to implement this functionality.\n",
      "Extracting data/train-labels-idx1-ubyte.gz\n",
      "WARNING:tensorflow:From c:\\users\\sx352\\appdata\\local\\programs\\python\\python36\\lib\\site-packages\\tensorflow\\contrib\\learn\\python\\learn\\datasets\\mnist.py:110: dense_to_one_hot (from tensorflow.contrib.learn.python.learn.datasets.mnist) is deprecated and will be removed in a future version.\n",
      "Instructions for updating:\n",
      "Please use tf.one_hot on tensors.\n",
      "Extracting data/t10k-images-idx3-ubyte.gz\n",
      "Extracting data/t10k-labels-idx1-ubyte.gz\n",
      "WARNING:tensorflow:From c:\\users\\sx352\\appdata\\local\\programs\\python\\python36\\lib\\site-packages\\tensorflow\\contrib\\learn\\python\\learn\\datasets\\mnist.py:290: DataSet.__init__ (from tensorflow.contrib.learn.python.learn.datasets.mnist) is deprecated and will be removed in a future version.\n",
      "Instructions for updating:\n",
      "Please use alternatives such as official/mnist/dataset.py from tensorflow/models.\n"
     ]
    }
   ],
   "source": [
    "mnist = input_data.read_data_sets('data/', one_hot=True)"
   ]
  },
  {
   "cell_type": "markdown",
   "metadata": {},
   "source": [
    "### 简单的二层神经网络"
   ]
  },
  {
   "cell_type": "code",
   "execution_count": 5,
   "metadata": {
    "collapsed": true
   },
   "outputs": [],
   "source": [
    "# NETWORK TOPOLOGIES\n",
    "learning_rate = 0.01\n",
    "training_epochs = 20\n",
    "batch_size = 100\n",
    "display_step = 4\n",
    "n_hidden_1 = 256\n",
    "n_hidden_2 = 128 \n",
    "n_input = 784 \n",
    "n_classes = 10  \n",
    "stddev = 0.1 "
   ]
  },
  {
   "cell_type": "code",
   "execution_count": 6,
   "metadata": {},
   "outputs": [
    {
     "name": "stdout",
     "output_type": "stream",
     "text": [
      "\n"
     ]
    }
   ],
   "source": [
    "x = tf.placeholder(\"float\", [None, n_input])\n",
    "y = tf.placeholder(\"float\", [None, n_classes])\n",
    "parameters = {}\n",
    "parameters['W1'] = tf.Variable(tf.random_normal([n_input, n_hidden_1], stddev=stddev))\n",
    "parameters['W2'] = tf.Variable(tf.random_normal([n_hidden_1, n_hidden_2], stddev=stddev))\n",
    "parameters['W3'] = tf.Variable(tf.random_normal([n_hidden_2, n_classes], stddev=stddev))\n",
    "parameters['b1'] = tf.Variable(tf.random_normal([n_hidden_1]))\n",
    "parameters['b2'] = tf.Variable(tf.random_normal([n_hidden_2]))\n",
    "parameters['b3'] = tf.Variable(tf.random_normal([n_classes]))\n",
    "print('')"
   ]
  },
  {
   "cell_type": "code",
   "execution_count": 7,
   "metadata": {
    "collapsed": true
   },
   "outputs": [],
   "source": [
    "def forward_process(X, parameters):\n",
    "    A = X\n",
    "    L = len(parameters)//2\n",
    "    for l in range(1, L+1):\n",
    "        W = parameters['W' + str(l)]\n",
    "        b = parameters['b' + str(l)]\n",
    "        Z = tf.add(tf.matmul(A, W), b)\n",
    "        A = tf.nn.relu(Z)\n",
    "    return A"
   ]
  },
  {
   "cell_type": "code",
   "execution_count": 11,
   "metadata": {},
   "outputs": [
    {
     "name": "stdout",
     "output_type": "stream",
     "text": [
      "ready\n"
     ]
    }
   ],
   "source": [
    "#定义前向传播过程\n",
    "pred = forward_process(x, parameters)\n",
    "#定义损失函数\n",
    "cost = tf.reduce_mean(tf.nn.softmax_cross_entropy_with_logits(labels=y, logits=pred))\n",
    "#优化方式\n",
    "optm = tf.train.GradientDescentOptimizer(learning_rate)\n",
    "#目标\n",
    "train = optm.minimize(cost)\n",
    "#评估\n",
    "coret = tf.equal(tf.argmax(pred, 1), tf.argmax(y, 1))\n",
    "accr = tf.reduce_mean(tf.cast(coret, 'float'))\n",
    "\n",
    "init = tf.global_variables_initializer()\n",
    "print('ready')"
   ]
  },
  {
   "cell_type": "code",
   "execution_count": 12,
   "metadata": {},
   "outputs": [
    {
     "name": "stdout",
     "output_type": "stream",
     "text": [
      "TEST ACCURACY: 0.918\n",
      "TEST ACCURACY: 0.935\n",
      "TEST ACCURACY: 0.945\n",
      "TEST ACCURACY: 0.953\n",
      "OPTIMIZATION FINISHED\n"
     ]
    }
   ],
   "source": [
    "with tf.Session() as sess:\n",
    "    sess.run(init)\n",
    "    num_batches = mnist.train.num_examples//batch_size\n",
    "    costs = []\n",
    "    for epoch in range(training_epochs):\n",
    "#         cost_now = []\n",
    "        for i in range(num_batches):\n",
    "            batch_x, batch_y = mnist.train.next_batch(batch_size)\n",
    "            foods = {x:batch_x, y:batch_y}\n",
    "            sess.run(train, feed_dict=foods)\n",
    "            cost_ = sess.run(cost, feed_dict=foods)\n",
    "            costs.append(cost_)\n",
    "        if (epoch+1)%5 == 0:\n",
    "            feeds = {x: mnist.test.images, y: mnist.test.labels}\n",
    "            test_acc = sess.run(accr, feed_dict=feeds)\n",
    "            print (\"TEST ACCURACY: %.3f\" % (test_acc))\n",
    "    print (\"OPTIMIZATION FINISHED\")"
   ]
  },
  {
   "cell_type": "code",
   "execution_count": 15,
   "metadata": {},
   "outputs": [
    {
     "data": {
      "image/png": "[encoded data removed]",
      "text/plain": [
       "<matplotlib.figure.Figure at 0x2c34f8a0e10>"
      ]
     },
     "metadata": {},
     "output_type": "display_data"
    }
   ],
   "source": [
    "plt.plot(costs)\n",
    "plt.show()"
   ]
  },
  {
   "cell_type": "code",
   "execution_count": 20,
   "metadata": {},
   "outputs": [
    {
     "name": "stdout",
     "output_type": "stream",
     "text": [
      "Epoch: 003/020 cost: 2.262182090\n",
      "TEST ACCURACY: 0.254\n",
      "Epoch: 007/020 cost: 2.223892411\n",
      "TEST ACCURACY: 0.396\n",
      "Epoch: 011/020 cost: 2.180194215\n",
      "TEST ACCURACY: 0.459\n",
      "Epoch: 015/020 cost: 2.129456278\n",
      "TEST ACCURACY: 0.503\n",
      "Epoch: 019/020 cost: 2.070220598\n",
      "TEST ACCURACY: 0.550\n",
      "OPTIMIZATION FINISHED\n"
     ]
    }
   ],
   "source": [
    "with tf.Session() as sess:\n",
    "    sess.run(init)\n",
    "    num_batchs = int(mnist.train.num_examples/batch_size)\n",
    "    for epoch in range(training_epochs):\n",
    "        aver_cost = 0\n",
    "        for i in range(num_batchs):\n",
    "            batch_xs, batch_ys = mnist.train.next_batch(batch_size)\n",
    "            foods = {x:batch_xs, y:batch_ys}\n",
    "            sess.run(train, feed_dict=foods)\n",
    "            aver_cost += sess.run(cost, feed_dict=foods)\n",
    "        aver_cost /= num_batchs\n",
    "        if (epoch+1) % display_step == 0:\n",
    "            print (\"Epoch: %03d/%03d cost: %.9f\" % (epoch, training_epochs, aver_cost))\n",
    "            feeds = {x: mnist.test.images, y: mnist.test.labels}\n",
    "            test_acc = sess.run(accr, feed_dict=feeds)\n",
    "            print (\"TEST ACCURACY: %.3f\" % (test_acc))\n",
    "    print (\"OPTIMIZATION FINISHED\")"
   ]
  },
  {
   "cell_type": "code",
   "execution_count": null,
   "metadata": {
    "collapsed": true
   },
   "outputs": [],
   "source": []
  },
  {
   "cell_type": "code",
   "execution_count": null,
   "metadata": {
    "collapsed": true
   },
   "outputs": [],
   "source": []
  }
 ],
 "metadata": {
  "kernelspec": {
   "display_name": "Python 3",
   "language": "python",
   "name": "python3"
  },
  "language_info": {
   "codemirror_mode": {
    "name": "ipython",
    "version": 3
   },
   "file_extension": ".py",
   "mimetype": "text/x-python",
   "name": "python",
   "nbconvert_exporter": "python",
   "pygments_lexer": "ipython3",
   "version": "3.6.3"
  }
 },
 "nbformat": 4,
 "nbformat_minor": 2
}
