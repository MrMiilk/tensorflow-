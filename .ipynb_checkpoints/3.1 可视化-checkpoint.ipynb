{
 "cells": [
  {
   "cell_type": "markdown",
   "metadata": {},
   "source": [
    "## tf.Summary\n",
    "- Summary ops(汇总操作):主要负责获取数据流上的张量\n",
    "    - audio\n",
    "    - image\n",
    "    - scale\n",
    "    - histogram\n",
    "    - merge_all:汇总操作的后置操作，获取merged，执行merged等同于执行了所有汇总操作\n",
    "- FileWriter:负责向事件文件写入序列化数据\n",
    "- Summary\n",
    "- Event"
   ]
  },
  {
   "cell_type": "markdown",
   "metadata": {},
   "source": [
    "## 可视化"
   ]
  },
  {
   "cell_type": "markdown",
   "metadata": {},
   "source": [
    "### 数据节点\n",
    "- 引入抽象节点\n",
    "- 关于name_scope和variable_scope的[区别](https://blog.csdn.net/u012436149/article/details/53081454?_t_t_t=0.5758701422798641)  \n",
    "    - name_scope对 get_variable()创建的变量 的名字不会有任何影响,而创建的op会被加上前缀\n",
    "    - 使用tf.get_variable()的时候，tf.name_scope()就不会给 tf.get_variable()创建出来的Variable加前缀。但是 tf.Variable() 创建出来的就会受到 name_scope 的影响."
   ]
  },
  {
   "cell_type": "code",
   "execution_count": null,
   "metadata": {
    "collapsed": true
   },
   "outputs": [],
   "source": [
    "#通过多层命名简化数据流图\n",
    "with tf.variable_scope('layer_one', reuse=True):\n",
    "    with tf.variable_scope('weight'):\n",
    "        weight = tf.get_variable('w', [10, 2], tf.randon_normal_initializer())\n",
    "    with tf.variable_scope('bias', reuse=True):\n",
    "        bias = tf.get_variable('b', [1, 2], tf.constant_initializer())\n",
    "    with tf.name_scope('Wx_plus_b'):\n",
    "        y = tf.add(tf.matmul(x, weight), bias)"
   ]
  },
  {
   "cell_type": "markdown",
   "metadata": {},
   "source": [
    "##### mnist数据集的实例"
   ]
  },
  {
   "cell_type": "code",
   "execution_count": null,
   "metadata": {
    "collapsed": true
   },
   "outputs": [],
   "source": [
    "import tensorflow as tf\n",
    "from tensorflow.example.tutorials.mnist import input_data\n",
    "\n",
    "\n",
    "mnist = input_data.read_data_sets('data/', one_hot=True)\n",
    "with tf.name_scope('input'):\n",
    "    X = tf.placeholder(dtype=tf.float32, shape=[None, 784], name='X')\n",
    "    Y = tf.placeholder(dtype=tf.float32, shape=[None, 10], name='Y')\n",
    "with tf.variable_scope('layer'):\n",
    "    with tf.variable_scope('weight'):\n",
    "        weight = tf.get_variable('weight', [784, 10], tf.random_normal_initializer())\n",
    "    with tf.variable_scope('bias'):\n",
    "        bias = tf.get_variable('bias', [10], tf.constant_initializer())\n",
    "    with tf.name_scope('Wx_add_b'):\n",
    "        y_ = tf.add(tf.matmal(x, weight), bias)\n",
    "with tf.name_scope('cross_entropy'):\n",
    "    diff = tf.nn.softmax_cross_entropywith_logits(labels=Y, logits=y_)\n",
    "    with tf.name_scope('total'):\n",
    "        cross_entropy = tf.reduce_mean(diff)\n",
    "        tf.summary.scalar('cross_entropy', cross_entropy)\n",
    "with tf.name_scope('train'):\n",
    "    "
   ]
  }
 ],
 "metadata": {
  "kernelspec": {
   "display_name": "Python 3",
   "language": "python",
   "name": "python3"
  },
  "language_info": {
   "codemirror_mode": {
    "name": "ipython",
    "version": 3
   },
   "file_extension": ".py",
   "mimetype": "text/x-python",
   "name": "python",
   "nbconvert_exporter": "python",
   "pygments_lexer": "ipython3",
   "version": "3.6.3"
  }
 },
 "nbformat": 4,
 "nbformat_minor": 2
}
