{
 "cells": [
  {
   "cell_type": "code",
   "execution_count": 1,
   "metadata": {
    "collapsed": true
   },
   "outputs": [],
   "source": [
    "import tensorflow as tf\n",
    "import numpy as np\n",
    "import matplotlib.pyplot as plt\n",
    "%matplotlib inline"
   ]
  },
  {
   "cell_type": "markdown",
   "metadata": {},
   "source": [
    "## 模型参数\n",
    "- 权重值，偏置值\n",
    "- 创建，初始化，更新流程\n",
    "- 存储：checkpoint <变量， 张量值>，ckpt文件（P92）"
   ]
  },
  {
   "cell_type": "markdown",
   "metadata": {},
   "source": [
    "### 创建，初始化，更新"
   ]
  },
  {
   "cell_type": "markdown",
   "metadata": {},
   "source": [
    "#### 1 创建\n",
    "- 常见的生成方式(P93)\n",
    "    - 统计分布\n",
    "    - 生成方式\n",
    "    - 常量\n",
    "- 利用已经创建的量"
   ]
  },
  {
   "cell_type": "code",
   "execution_count": null,
   "metadata": {
    "collapsed": true
   },
   "outputs": [],
   "source": [
    "#使用initialized_value()方法，注意不能使用变量实例\n",
    "W = tf.Variable(tf.random_normal(shape=(1, 4), steddev=0.35), name='W')\n",
    "W2 = tf.Variable(W.initialized_value()*2, name='W2')"
   ]
  },
  {
   "cell_type": "code",
   "execution_count": null,
   "metadata": {
    "collapsed": true
   },
   "outputs": [],
   "source": [
    "W = tf.Variable(tf.random_normal(shape=(1, 4), stddev=0.35), name='W')\n",
    "    W2 = tf.Variable(W.initialized_value(), name='W2')\n",
    "\n",
    "    initer = tf.global_variables_initializer()\n",
    "    with tf.Session() as sess:\n",
    "        sess.run(initer)\n",
    "        writer = tf.summary.FileWriter('logs_1/', sess.graph)"
   ]
  },
  {
   "cell_type": "markdown",
   "metadata": {},
   "source": [
    "    得到的图如下，initial_value变为一个数据生成器\n",
    "![](imgs/8.png)"
   ]
  },
  {
   "cell_type": "markdown",
   "metadata": {},
   "source": [
    "#### 2 初始化\n",
    "- 初始化全部变量 tf.global_variable_initializer(),实际上也是调用下一个方法(P96)\n",
    "- 部分变量 tf.variable_initializer(var_list, name),这里var_list是同类变量集合列表，5类(P96), 通过创建变量时指定\n",
    "```python\n",
    "    W = tf.Variable(W, collections=[GraphKeys.VARIABLES])\n",
    "```\n",
    "- 调试变量方法(P96)\n",
    "    - 是否初始化\n",
    "    - 未初始化变量集合列表获取\n",
    "    - 初始化断言"
   ]
  },
  {
   "cell_type": "markdown",
   "metadata": {},
   "source": [
    "#### 3 模型参数更新\n",
    "- assign 在数据流图不变下对变量进行更新，不是直接用‘=’赋值。"
   ]
  },
  {
   "cell_type": "markdown",
   "metadata": {},
   "source": [
    "### 模型保存(P98)"
   ]
  },
  {
   "cell_type": "markdown",
   "metadata": {},
   "source": [
    "## 基于模块化的网络搭建\n",
    "- 使用变量作用域\n",
    "![](imgs/9.png)"
   ]
  },
  {
   "cell_type": "code",
   "execution_count": null,
   "metadata": {
    "collapsed": true
   },
   "outputs": [],
   "source": [
    "#(添加)一个卷积层的函数\n",
    "def conv_relu(inputs, params):\n",
    "    kernel_shape, bias_shape, strides, padding = some_function(params)\n",
    "    weights = tf.gett_variable(name='weights', shape=kernel_shape, initializer=tf.random_normal_initializer())\n",
    "    biases = tf.get_variable(name='biases', shape=bias_shape, initizlizer=tf.constant_initializer(0.))\n",
    "    conv = tf.nn.conv2d(inputs, weights, strides, padding)\n",
    "    return tf.nn.relu(conv + biases)"
   ]
  },
  {
   "cell_type": "code",
   "execution_count": null,
   "metadata": {
    "collapsed": true
   },
   "outputs": [],
   "source": [
    "def model(inputs, params):\n",
    "    #with 上下文定义的变量，会加上variable_scope()中定义的前缀\n",
    "    with tf.variable_scope('conv1'):\n",
    "        A1 = conv_relu(inputs, params)\n",
    "    with tf.variable_scope('conv2'):\n",
    "        A2 = conv_relu(A1, params)"
   ]
  },
  {
   "cell_type": "markdown",
   "metadata": {},
   "source": [
    "##### 这里如果第二次调用model()会产生ValueError异常，用当加上reuse参数(P102)"
   ]
  },
  {
   "cell_type": "code",
   "execution_count": null,
   "metadata": {
    "collapsed": true
   },
   "outputs": [],
   "source": [
    "def model(inputs, params):\n",
    "    #with 上下文定义的变量，会加上variable_scope()中定义的前缀\n",
    "    with tf.variable_scope('conv1', reuse=True):\n",
    "        A1 = conv_relu(inputs, params)\n",
    "    with tf.variable_scope('conv2', reuse=True):\n",
    "        A2 = conv_relu(A1, params)"
   ]
  },
  {
   "cell_type": "markdown",
   "metadata": {},
   "source": [
    "##### 关于变量名命名"
   ]
  },
  {
   "cell_type": "code",
   "execution_count": null,
   "metadata": {
    "collapsed": true
   },
   "outputs": [],
   "source": [
    "with tf.variable_scope('foo'):\n",
    "    with tf.variable_scope('bar'):\n",
    "        v = tf.get_variable(\"v\", [1])\n",
    "assert v.name == \"foo/bar/v:0\""
   ]
  },
  {
   "cell_type": "markdown",
   "metadata": {},
   "source": [
    "##### 初始化方法的层级关系(P102)"
   ]
  },
  {
   "cell_type": "code",
   "execution_count": null,
   "metadata": {
    "collapsed": true
   },
   "outputs": [],
   "source": []
  }
 ],
 "metadata": {
  "kernelspec": {
   "display_name": "Python 3",
   "language": "python",
   "name": "python3"
  },
  "language_info": {
   "codemirror_mode": {
    "name": "ipython",
    "version": 3
   },
   "file_extension": ".py",
   "mimetype": "text/x-python",
   "name": "python",
   "nbconvert_exporter": "python",
   "pygments_lexer": "ipython3",
   "version": "3.6.3"
  }
 },
 "nbformat": 4,
 "nbformat_minor": 2
}
